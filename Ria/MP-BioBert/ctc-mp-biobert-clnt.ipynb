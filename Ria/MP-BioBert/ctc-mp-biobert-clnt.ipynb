{
 "cells": [
  {
   "cell_type": "code",
   "execution_count": 1,
   "id": "d50aeec6",
   "metadata": {
    "_cell_guid": "b1076dfc-b9ad-4769-8c92-a6c4dae69d19",
    "_uuid": "8f2839f25d086af736a60e9eeb907d3b93b6e0e5",
    "execution": {
     "iopub.execute_input": "2024-05-11T07:23:19.688559Z",
     "iopub.status.busy": "2024-05-11T07:23:19.687681Z",
     "iopub.status.idle": "2024-05-11T07:23:45.380789Z",
     "shell.execute_reply": "2024-05-11T07:23:45.379738Z"
    },
    "papermill": {
     "duration": 25.719395,
     "end_time": "2024-05-11T07:23:45.383355",
     "exception": false,
     "start_time": "2024-05-11T07:23:19.663960",
     "status": "completed"
    },
    "tags": []
   },
   "outputs": [
    {
     "name": "stdout",
     "output_type": "stream",
     "text": [
      "Collecting clean-text\r\n",
      "  Downloading clean_text-0.6.0-py3-none-any.whl.metadata (6.6 kB)\r\n",
      "Collecting emoji<2.0.0,>=1.0.0 (from clean-text)\r\n",
      "  Downloading emoji-1.7.0.tar.gz (175 kB)\r\n",
      "\u001b[2K     \u001b[90m━━━━━━━━━━━━━━━━━━━━━━━━━━━━━━━━━━━━━━━\u001b[0m \u001b[32m175.4/175.4 kB\u001b[0m \u001b[31m6.5 MB/s\u001b[0m eta \u001b[36m0:00:00\u001b[0m\r\n",
      "\u001b[?25h  Preparing metadata (setup.py) ... \u001b[?25l-\b \bdone\r\n",
      "\u001b[?25hCollecting ftfy<7.0,>=6.0 (from clean-text)\r\n",
      "  Downloading ftfy-6.2.0-py3-none-any.whl.metadata (7.3 kB)\r\n",
      "Requirement already satisfied: wcwidth<0.3.0,>=0.2.12 in /opt/conda/lib/python3.10/site-packages (from ftfy<7.0,>=6.0->clean-text) (0.2.13)\r\n",
      "Downloading clean_text-0.6.0-py3-none-any.whl (11 kB)\r\n",
      "Downloading ftfy-6.2.0-py3-none-any.whl (54 kB)\r\n",
      "\u001b[2K   \u001b[90m━━━━━━━━━━━━━━━━━━━━━━━━━━━━━━━━━━━━━━━━\u001b[0m \u001b[32m54.4/54.4 kB\u001b[0m \u001b[31m3.7 MB/s\u001b[0m eta \u001b[36m0:00:00\u001b[0m\r\n",
      "\u001b[?25hBuilding wheels for collected packages: emoji\r\n",
      "  Building wheel for emoji (setup.py) ... \u001b[?25l-\b \bdone\r\n",
      "\u001b[?25h  Created wheel for emoji: filename=emoji-1.7.0-py3-none-any.whl size=171033 sha256=154327cc4aec62b45d63fe0310e4651c8787ad78d198e1f640495534c61bdf7e\r\n",
      "  Stored in directory: /root/.cache/pip/wheels/31/8a/8c/315c9e5d7773f74b33d5ed33f075b49c6eaeb7cedbb86e2cf8\r\n",
      "Successfully built emoji\r\n",
      "Installing collected packages: emoji, ftfy, clean-text\r\n",
      "  Attempting uninstall: emoji\r\n",
      "    Found existing installation: emoji 2.11.0\r\n",
      "    Uninstalling emoji-2.11.0:\r\n",
      "      Successfully uninstalled emoji-2.11.0\r\n",
      "Successfully installed clean-text-0.6.0 emoji-1.7.0 ftfy-6.2.0\r\n"
     ]
    }
   ],
   "source": [
    "import torch\n",
    "from torch import nn\n",
    "from torch.utils.data import DataLoader, Dataset\n",
    "from transformers import BertTokenizer, BertModel, AdamW, get_linear_schedule_with_warmup\n",
    "from sklearn.model_selection import train_test_split\n",
    "from sklearn.metrics import accuracy_score, classification_report\n",
    "from sklearn.metrics import accuracy_score, recall_score, precision_score, f1_score, roc_auc_score\n",
    "import pandas as pd\n",
    "from collections import deque\n",
    "import matplotlib.pyplot as plt\n",
    "import numpy as np\n",
    "from datasets import load_dataset\n",
    "import torch.optim as optim\n",
    "import torch.nn.functional as F\n",
    "!pip install clean-text\n",
    "from cleantext import clean\n"
   ]
  },
  {
   "cell_type": "code",
   "execution_count": 2,
   "id": "bb314ada",
   "metadata": {
    "execution": {
     "iopub.execute_input": "2024-05-11T07:23:45.425486Z",
     "iopub.status.busy": "2024-05-11T07:23:45.424133Z",
     "iopub.status.idle": "2024-05-11T07:23:47.730299Z",
     "shell.execute_reply": "2024-05-11T07:23:47.729403Z"
    },
    "papermill": {
     "duration": 2.329538,
     "end_time": "2024-05-11T07:23:47.732902",
     "exception": false,
     "start_time": "2024-05-11T07:23:45.403364",
     "status": "completed"
    },
    "tags": []
   },
   "outputs": [],
   "source": [
    "# Load Train, Validation, Test Dataset\n",
    "train_df = pd.read_csv('/kaggle/input/mp-train/MP_train.csv')\n",
    "val_df = pd.read_csv('/kaggle/input/mp-val/MP_val.csv')\n",
    "test_df = pd.read_csv('/kaggle/input/mp-test/MP_test.csv')"
   ]
  },
  {
   "cell_type": "code",
   "execution_count": 3,
   "id": "a3ec42ca",
   "metadata": {
    "execution": {
     "iopub.execute_input": "2024-05-11T07:23:47.774151Z",
     "iopub.status.busy": "2024-05-11T07:23:47.773867Z",
     "iopub.status.idle": "2024-05-11T07:23:47.791404Z",
     "shell.execute_reply": "2024-05-11T07:23:47.790538Z"
    },
    "papermill": {
     "duration": 0.04017,
     "end_time": "2024-05-11T07:23:47.793604",
     "exception": false,
     "start_time": "2024-05-11T07:23:47.753434",
     "status": "completed"
    },
    "tags": []
   },
   "outputs": [
    {
     "data": {
      "text/html": [
       "<div>\n",
       "<style scoped>\n",
       "    .dataframe tbody tr th:only-of-type {\n",
       "        vertical-align: middle;\n",
       "    }\n",
       "\n",
       "    .dataframe tbody tr th {\n",
       "        vertical-align: top;\n",
       "    }\n",
       "\n",
       "    .dataframe thead th {\n",
       "        text-align: right;\n",
       "    }\n",
       "</style>\n",
       "<table border=\"1\" class=\"dataframe\">\n",
       "  <thead>\n",
       "    <tr style=\"text-align: right;\">\n",
       "      <th></th>\n",
       "      <th>id</th>\n",
       "      <th>text</th>\n",
       "      <th>hospital_expire_flag</th>\n",
       "    </tr>\n",
       "  </thead>\n",
       "  <tbody>\n",
       "    <tr>\n",
       "      <th>0</th>\n",
       "      <td>107384</td>\n",
       "      <td>CHIEF COMPLAINT: AMS, concern for toxic alcoho...</td>\n",
       "      <td>0</td>\n",
       "    </tr>\n",
       "    <tr>\n",
       "      <th>1</th>\n",
       "      <td>101061</td>\n",
       "      <td>CHIEF COMPLAINT: abdominal pain\\n\\nPRESENT ILL...</td>\n",
       "      <td>0</td>\n",
       "    </tr>\n",
       "    <tr>\n",
       "      <th>2</th>\n",
       "      <td>127180</td>\n",
       "      <td>CHIEF COMPLAINT: Bilateral Sub Dural Hematoma\\...</td>\n",
       "      <td>0</td>\n",
       "    </tr>\n",
       "    <tr>\n",
       "      <th>3</th>\n",
       "      <td>168339</td>\n",
       "      <td>CHIEF COMPLAINT: Intracranial bleed\\n\\nPRESENT...</td>\n",
       "      <td>0</td>\n",
       "    </tr>\n",
       "    <tr>\n",
       "      <th>4</th>\n",
       "      <td>154044</td>\n",
       "      <td>CHIEF COMPLAINT: ischemic left foot\\n\\nPRESENT...</td>\n",
       "      <td>0</td>\n",
       "    </tr>\n",
       "  </tbody>\n",
       "</table>\n",
       "</div>"
      ],
      "text/plain": [
       "       id                                               text  \\\n",
       "0  107384  CHIEF COMPLAINT: AMS, concern for toxic alcoho...   \n",
       "1  101061  CHIEF COMPLAINT: abdominal pain\\n\\nPRESENT ILL...   \n",
       "2  127180  CHIEF COMPLAINT: Bilateral Sub Dural Hematoma\\...   \n",
       "3  168339  CHIEF COMPLAINT: Intracranial bleed\\n\\nPRESENT...   \n",
       "4  154044  CHIEF COMPLAINT: ischemic left foot\\n\\nPRESENT...   \n",
       "\n",
       "   hospital_expire_flag  \n",
       "0                     0  \n",
       "1                     0  \n",
       "2                     0  \n",
       "3                     0  \n",
       "4                     0  "
      ]
     },
     "execution_count": 3,
     "metadata": {},
     "output_type": "execute_result"
    }
   ],
   "source": [
    "train_df.head()"
   ]
  },
  {
   "cell_type": "code",
   "execution_count": 4,
   "id": "e7a25bff",
   "metadata": {
    "execution": {
     "iopub.execute_input": "2024-05-11T07:23:47.837651Z",
     "iopub.status.busy": "2024-05-11T07:23:47.837293Z",
     "iopub.status.idle": "2024-05-11T07:23:47.846611Z",
     "shell.execute_reply": "2024-05-11T07:23:47.845690Z"
    },
    "papermill": {
     "duration": 0.03372,
     "end_time": "2024-05-11T07:23:47.849018",
     "exception": false,
     "start_time": "2024-05-11T07:23:47.815298",
     "status": "completed"
    },
    "tags": []
   },
   "outputs": [
    {
     "data": {
      "text/html": [
       "<div>\n",
       "<style scoped>\n",
       "    .dataframe tbody tr th:only-of-type {\n",
       "        vertical-align: middle;\n",
       "    }\n",
       "\n",
       "    .dataframe tbody tr th {\n",
       "        vertical-align: top;\n",
       "    }\n",
       "\n",
       "    .dataframe thead th {\n",
       "        text-align: right;\n",
       "    }\n",
       "</style>\n",
       "<table border=\"1\" class=\"dataframe\">\n",
       "  <thead>\n",
       "    <tr style=\"text-align: right;\">\n",
       "      <th></th>\n",
       "      <th>id</th>\n",
       "      <th>text</th>\n",
       "      <th>hospital_expire_flag</th>\n",
       "    </tr>\n",
       "  </thead>\n",
       "  <tbody>\n",
       "    <tr>\n",
       "      <th>0</th>\n",
       "      <td>176763</td>\n",
       "      <td>CHIEF COMPLAINT: # Lethargy # Confusion # Hypo...</td>\n",
       "      <td>0</td>\n",
       "    </tr>\n",
       "    <tr>\n",
       "      <th>1</th>\n",
       "      <td>173211</td>\n",
       "      <td>CHIEF COMPLAINT: Dyspnea, LE edema\\n\\nPRESENT ...</td>\n",
       "      <td>0</td>\n",
       "    </tr>\n",
       "    <tr>\n",
       "      <th>2</th>\n",
       "      <td>116333</td>\n",
       "      <td>CHIEF COMPLAINT: upper GI bleed\\n\\nPRESENT ILL...</td>\n",
       "      <td>1</td>\n",
       "    </tr>\n",
       "    <tr>\n",
       "      <th>3</th>\n",
       "      <td>161102</td>\n",
       "      <td>CHIEF COMPLAINT: increased lethargy\\n\\nPRESENT...</td>\n",
       "      <td>0</td>\n",
       "    </tr>\n",
       "    <tr>\n",
       "      <th>4</th>\n",
       "      <td>116799</td>\n",
       "      <td>CHIEF COMPLAINT: s/p 18 ft fall\\n\\nPRESENT ILL...</td>\n",
       "      <td>0</td>\n",
       "    </tr>\n",
       "  </tbody>\n",
       "</table>\n",
       "</div>"
      ],
      "text/plain": [
       "       id                                               text  \\\n",
       "0  176763  CHIEF COMPLAINT: # Lethargy # Confusion # Hypo...   \n",
       "1  173211  CHIEF COMPLAINT: Dyspnea, LE edema\\n\\nPRESENT ...   \n",
       "2  116333  CHIEF COMPLAINT: upper GI bleed\\n\\nPRESENT ILL...   \n",
       "3  161102  CHIEF COMPLAINT: increased lethargy\\n\\nPRESENT...   \n",
       "4  116799  CHIEF COMPLAINT: s/p 18 ft fall\\n\\nPRESENT ILL...   \n",
       "\n",
       "   hospital_expire_flag  \n",
       "0                     0  \n",
       "1                     0  \n",
       "2                     1  \n",
       "3                     0  \n",
       "4                     0  "
      ]
     },
     "execution_count": 4,
     "metadata": {},
     "output_type": "execute_result"
    }
   ],
   "source": [
    "val_df.head()"
   ]
  },
  {
   "cell_type": "code",
   "execution_count": 5,
   "id": "8e15810b",
   "metadata": {
    "execution": {
     "iopub.execute_input": "2024-05-11T07:23:47.889714Z",
     "iopub.status.busy": "2024-05-11T07:23:47.889190Z",
     "iopub.status.idle": "2024-05-11T07:23:47.898235Z",
     "shell.execute_reply": "2024-05-11T07:23:47.897385Z"
    },
    "papermill": {
     "duration": 0.031722,
     "end_time": "2024-05-11T07:23:47.900360",
     "exception": false,
     "start_time": "2024-05-11T07:23:47.868638",
     "status": "completed"
    },
    "tags": []
   },
   "outputs": [
    {
     "data": {
      "text/html": [
       "<div>\n",
       "<style scoped>\n",
       "    .dataframe tbody tr th:only-of-type {\n",
       "        vertical-align: middle;\n",
       "    }\n",
       "\n",
       "    .dataframe tbody tr th {\n",
       "        vertical-align: top;\n",
       "    }\n",
       "\n",
       "    .dataframe thead th {\n",
       "        text-align: right;\n",
       "    }\n",
       "</style>\n",
       "<table border=\"1\" class=\"dataframe\">\n",
       "  <thead>\n",
       "    <tr style=\"text-align: right;\">\n",
       "      <th></th>\n",
       "      <th>id</th>\n",
       "      <th>text</th>\n",
       "      <th>hospital_expire_flag</th>\n",
       "    </tr>\n",
       "  </thead>\n",
       "  <tbody>\n",
       "    <tr>\n",
       "      <th>0</th>\n",
       "      <td>100058</td>\n",
       "      <td>CHIEF COMPLAINT: \\n\\nPRESENT ILLNESS: The pati...</td>\n",
       "      <td>0</td>\n",
       "    </tr>\n",
       "    <tr>\n",
       "      <th>1</th>\n",
       "      <td>124871</td>\n",
       "      <td>CHIEF COMPLAINT: shortness of breath\\n\\nPRESEN...</td>\n",
       "      <td>0</td>\n",
       "    </tr>\n",
       "    <tr>\n",
       "      <th>2</th>\n",
       "      <td>109159</td>\n",
       "      <td>CHIEF COMPLAINT: s/p mechanical fall\\n\\nPRESEN...</td>\n",
       "      <td>0</td>\n",
       "    </tr>\n",
       "    <tr>\n",
       "      <th>3</th>\n",
       "      <td>159161</td>\n",
       "      <td>CHIEF COMPLAINT: nausea and vomiting\\n\\nPRESEN...</td>\n",
       "      <td>0</td>\n",
       "    </tr>\n",
       "    <tr>\n",
       "      <th>4</th>\n",
       "      <td>109863</td>\n",
       "      <td>CHIEF COMPLAINT: \\n\\nPRESENT ILLNESS: The pati...</td>\n",
       "      <td>1</td>\n",
       "    </tr>\n",
       "  </tbody>\n",
       "</table>\n",
       "</div>"
      ],
      "text/plain": [
       "       id                                               text  \\\n",
       "0  100058  CHIEF COMPLAINT: \\n\\nPRESENT ILLNESS: The pati...   \n",
       "1  124871  CHIEF COMPLAINT: shortness of breath\\n\\nPRESEN...   \n",
       "2  109159  CHIEF COMPLAINT: s/p mechanical fall\\n\\nPRESEN...   \n",
       "3  159161  CHIEF COMPLAINT: nausea and vomiting\\n\\nPRESEN...   \n",
       "4  109863  CHIEF COMPLAINT: \\n\\nPRESENT ILLNESS: The pati...   \n",
       "\n",
       "   hospital_expire_flag  \n",
       "0                     0  \n",
       "1                     0  \n",
       "2                     0  \n",
       "3                     0  \n",
       "4                     1  "
      ]
     },
     "execution_count": 5,
     "metadata": {},
     "output_type": "execute_result"
    }
   ],
   "source": [
    "test_df.head()"
   ]
  },
  {
   "cell_type": "code",
   "execution_count": 6,
   "id": "7937f85f",
   "metadata": {
    "execution": {
     "iopub.execute_input": "2024-05-11T07:23:47.943451Z",
     "iopub.status.busy": "2024-05-11T07:23:47.942692Z",
     "iopub.status.idle": "2024-05-11T07:23:47.951362Z",
     "shell.execute_reply": "2024-05-11T07:23:47.950503Z"
    },
    "papermill": {
     "duration": 0.03189,
     "end_time": "2024-05-11T07:23:47.953621",
     "exception": false,
     "start_time": "2024-05-11T07:23:47.921731",
     "status": "completed"
    },
    "tags": []
   },
   "outputs": [
    {
     "data": {
      "text/plain": [
       "2"
      ]
     },
     "execution_count": 6,
     "metadata": {},
     "output_type": "execute_result"
    }
   ],
   "source": [
    "train_df['hospital_expire_flag'].nunique()"
   ]
  },
  {
   "cell_type": "code",
   "execution_count": 7,
   "id": "f7273835",
   "metadata": {
    "execution": {
     "iopub.execute_input": "2024-05-11T07:23:47.997246Z",
     "iopub.status.busy": "2024-05-11T07:23:47.996762Z",
     "iopub.status.idle": "2024-05-11T07:23:48.003126Z",
     "shell.execute_reply": "2024-05-11T07:23:48.002266Z"
    },
    "papermill": {
     "duration": 0.029427,
     "end_time": "2024-05-11T07:23:48.005011",
     "exception": false,
     "start_time": "2024-05-11T07:23:47.975584",
     "status": "completed"
    },
    "tags": []
   },
   "outputs": [
    {
     "data": {
      "text/plain": [
       "2"
      ]
     },
     "execution_count": 7,
     "metadata": {},
     "output_type": "execute_result"
    }
   ],
   "source": [
    "val_df['hospital_expire_flag'].nunique()"
   ]
  },
  {
   "cell_type": "code",
   "execution_count": 8,
   "id": "0f9e4676",
   "metadata": {
    "execution": {
     "iopub.execute_input": "2024-05-11T07:23:48.047077Z",
     "iopub.status.busy": "2024-05-11T07:23:48.046796Z",
     "iopub.status.idle": "2024-05-11T07:23:48.053335Z",
     "shell.execute_reply": "2024-05-11T07:23:48.052384Z"
    },
    "papermill": {
     "duration": 0.030361,
     "end_time": "2024-05-11T07:23:48.055487",
     "exception": false,
     "start_time": "2024-05-11T07:23:48.025126",
     "status": "completed"
    },
    "tags": []
   },
   "outputs": [
    {
     "data": {
      "text/plain": [
       "2"
      ]
     },
     "execution_count": 8,
     "metadata": {},
     "output_type": "execute_result"
    }
   ],
   "source": [
    "test_df['hospital_expire_flag'].nunique()"
   ]
  },
  {
   "cell_type": "code",
   "execution_count": 9,
   "id": "01acbda3",
   "metadata": {
    "execution": {
     "iopub.execute_input": "2024-05-11T07:23:48.099400Z",
     "iopub.status.busy": "2024-05-11T07:23:48.099110Z",
     "iopub.status.idle": "2024-05-11T07:23:48.111275Z",
     "shell.execute_reply": "2024-05-11T07:23:48.110567Z"
    },
    "papermill": {
     "duration": 0.035878,
     "end_time": "2024-05-11T07:23:48.113327",
     "exception": false,
     "start_time": "2024-05-11T07:23:48.077449",
     "status": "completed"
    },
    "tags": []
   },
   "outputs": [],
   "source": [
    "train_df.drop(columns=['id'], inplace=True)\n",
    "val_df.drop(columns=['id'], inplace=True)\n",
    "test_df.drop(columns=['id'], inplace=True)"
   ]
  },
  {
   "cell_type": "code",
   "execution_count": 10,
   "id": "8995b870",
   "metadata": {
    "execution": {
     "iopub.execute_input": "2024-05-11T07:23:48.156244Z",
     "iopub.status.busy": "2024-05-11T07:23:48.155937Z",
     "iopub.status.idle": "2024-05-11T07:23:48.164794Z",
     "shell.execute_reply": "2024-05-11T07:23:48.163896Z"
    },
    "papermill": {
     "duration": 0.032568,
     "end_time": "2024-05-11T07:23:48.166693",
     "exception": false,
     "start_time": "2024-05-11T07:23:48.134125",
     "status": "completed"
    },
    "tags": []
   },
   "outputs": [
    {
     "data": {
      "text/html": [
       "<div>\n",
       "<style scoped>\n",
       "    .dataframe tbody tr th:only-of-type {\n",
       "        vertical-align: middle;\n",
       "    }\n",
       "\n",
       "    .dataframe tbody tr th {\n",
       "        vertical-align: top;\n",
       "    }\n",
       "\n",
       "    .dataframe thead th {\n",
       "        text-align: right;\n",
       "    }\n",
       "</style>\n",
       "<table border=\"1\" class=\"dataframe\">\n",
       "  <thead>\n",
       "    <tr style=\"text-align: right;\">\n",
       "      <th></th>\n",
       "      <th>text</th>\n",
       "      <th>hospital_expire_flag</th>\n",
       "    </tr>\n",
       "  </thead>\n",
       "  <tbody>\n",
       "    <tr>\n",
       "      <th>0</th>\n",
       "      <td>CHIEF COMPLAINT: AMS, concern for toxic alcoho...</td>\n",
       "      <td>0</td>\n",
       "    </tr>\n",
       "    <tr>\n",
       "      <th>1</th>\n",
       "      <td>CHIEF COMPLAINT: abdominal pain\\n\\nPRESENT ILL...</td>\n",
       "      <td>0</td>\n",
       "    </tr>\n",
       "    <tr>\n",
       "      <th>2</th>\n",
       "      <td>CHIEF COMPLAINT: Bilateral Sub Dural Hematoma\\...</td>\n",
       "      <td>0</td>\n",
       "    </tr>\n",
       "    <tr>\n",
       "      <th>3</th>\n",
       "      <td>CHIEF COMPLAINT: Intracranial bleed\\n\\nPRESENT...</td>\n",
       "      <td>0</td>\n",
       "    </tr>\n",
       "    <tr>\n",
       "      <th>4</th>\n",
       "      <td>CHIEF COMPLAINT: ischemic left foot\\n\\nPRESENT...</td>\n",
       "      <td>0</td>\n",
       "    </tr>\n",
       "  </tbody>\n",
       "</table>\n",
       "</div>"
      ],
      "text/plain": [
       "                                                text  hospital_expire_flag\n",
       "0  CHIEF COMPLAINT: AMS, concern for toxic alcoho...                     0\n",
       "1  CHIEF COMPLAINT: abdominal pain\\n\\nPRESENT ILL...                     0\n",
       "2  CHIEF COMPLAINT: Bilateral Sub Dural Hematoma\\...                     0\n",
       "3  CHIEF COMPLAINT: Intracranial bleed\\n\\nPRESENT...                     0\n",
       "4  CHIEF COMPLAINT: ischemic left foot\\n\\nPRESENT...                     0"
      ]
     },
     "execution_count": 10,
     "metadata": {},
     "output_type": "execute_result"
    }
   ],
   "source": [
    "train_df.head()"
   ]
  },
  {
   "cell_type": "code",
   "execution_count": 11,
   "id": "a75c8e9f",
   "metadata": {
    "execution": {
     "iopub.execute_input": "2024-05-11T07:23:48.209479Z",
     "iopub.status.busy": "2024-05-11T07:23:48.209175Z",
     "iopub.status.idle": "2024-05-11T07:23:48.217860Z",
     "shell.execute_reply": "2024-05-11T07:23:48.216962Z"
    },
    "papermill": {
     "duration": 0.032503,
     "end_time": "2024-05-11T07:23:48.219923",
     "exception": false,
     "start_time": "2024-05-11T07:23:48.187420",
     "status": "completed"
    },
    "tags": []
   },
   "outputs": [
    {
     "data": {
      "text/html": [
       "<div>\n",
       "<style scoped>\n",
       "    .dataframe tbody tr th:only-of-type {\n",
       "        vertical-align: middle;\n",
       "    }\n",
       "\n",
       "    .dataframe tbody tr th {\n",
       "        vertical-align: top;\n",
       "    }\n",
       "\n",
       "    .dataframe thead th {\n",
       "        text-align: right;\n",
       "    }\n",
       "</style>\n",
       "<table border=\"1\" class=\"dataframe\">\n",
       "  <thead>\n",
       "    <tr style=\"text-align: right;\">\n",
       "      <th></th>\n",
       "      <th>text</th>\n",
       "      <th>hospital_expire_flag</th>\n",
       "    </tr>\n",
       "  </thead>\n",
       "  <tbody>\n",
       "    <tr>\n",
       "      <th>0</th>\n",
       "      <td>CHIEF COMPLAINT: \\n\\nPRESENT ILLNESS: The pati...</td>\n",
       "      <td>0</td>\n",
       "    </tr>\n",
       "    <tr>\n",
       "      <th>1</th>\n",
       "      <td>CHIEF COMPLAINT: shortness of breath\\n\\nPRESEN...</td>\n",
       "      <td>0</td>\n",
       "    </tr>\n",
       "    <tr>\n",
       "      <th>2</th>\n",
       "      <td>CHIEF COMPLAINT: s/p mechanical fall\\n\\nPRESEN...</td>\n",
       "      <td>0</td>\n",
       "    </tr>\n",
       "    <tr>\n",
       "      <th>3</th>\n",
       "      <td>CHIEF COMPLAINT: nausea and vomiting\\n\\nPRESEN...</td>\n",
       "      <td>0</td>\n",
       "    </tr>\n",
       "    <tr>\n",
       "      <th>4</th>\n",
       "      <td>CHIEF COMPLAINT: \\n\\nPRESENT ILLNESS: The pati...</td>\n",
       "      <td>1</td>\n",
       "    </tr>\n",
       "  </tbody>\n",
       "</table>\n",
       "</div>"
      ],
      "text/plain": [
       "                                                text  hospital_expire_flag\n",
       "0  CHIEF COMPLAINT: \\n\\nPRESENT ILLNESS: The pati...                     0\n",
       "1  CHIEF COMPLAINT: shortness of breath\\n\\nPRESEN...                     0\n",
       "2  CHIEF COMPLAINT: s/p mechanical fall\\n\\nPRESEN...                     0\n",
       "3  CHIEF COMPLAINT: nausea and vomiting\\n\\nPRESEN...                     0\n",
       "4  CHIEF COMPLAINT: \\n\\nPRESENT ILLNESS: The pati...                     1"
      ]
     },
     "execution_count": 11,
     "metadata": {},
     "output_type": "execute_result"
    }
   ],
   "source": [
    "test_df.head()"
   ]
  },
  {
   "cell_type": "code",
   "execution_count": 12,
   "id": "357e4950",
   "metadata": {
    "execution": {
     "iopub.execute_input": "2024-05-11T07:23:48.266653Z",
     "iopub.status.busy": "2024-05-11T07:23:48.266093Z",
     "iopub.status.idle": "2024-05-11T07:23:48.271777Z",
     "shell.execute_reply": "2024-05-11T07:23:48.270928Z"
    },
    "papermill": {
     "duration": 0.032066,
     "end_time": "2024-05-11T07:23:48.273823",
     "exception": false,
     "start_time": "2024-05-11T07:23:48.241757",
     "status": "completed"
    },
    "tags": []
   },
   "outputs": [
    {
     "data": {
      "text/plain": [
       "(33954, 2)"
      ]
     },
     "execution_count": 12,
     "metadata": {},
     "output_type": "execute_result"
    }
   ],
   "source": [
    "train_df.shape"
   ]
  },
  {
   "cell_type": "code",
   "execution_count": 13,
   "id": "1bdcd331",
   "metadata": {
    "execution": {
     "iopub.execute_input": "2024-05-11T07:23:48.317153Z",
     "iopub.status.busy": "2024-05-11T07:23:48.316570Z",
     "iopub.status.idle": "2024-05-11T07:23:48.321762Z",
     "shell.execute_reply": "2024-05-11T07:23:48.320945Z"
    },
    "papermill": {
     "duration": 0.029098,
     "end_time": "2024-05-11T07:23:48.323847",
     "exception": false,
     "start_time": "2024-05-11T07:23:48.294749",
     "status": "completed"
    },
    "tags": []
   },
   "outputs": [
    {
     "data": {
      "text/plain": [
       "(4908, 2)"
      ]
     },
     "execution_count": 13,
     "metadata": {},
     "output_type": "execute_result"
    }
   ],
   "source": [
    "val_df.shape"
   ]
  },
  {
   "cell_type": "code",
   "execution_count": 14,
   "id": "78da10d2",
   "metadata": {
    "execution": {
     "iopub.execute_input": "2024-05-11T07:23:48.368601Z",
     "iopub.status.busy": "2024-05-11T07:23:48.368262Z",
     "iopub.status.idle": "2024-05-11T07:23:48.373851Z",
     "shell.execute_reply": "2024-05-11T07:23:48.372933Z"
    },
    "papermill": {
     "duration": 0.030132,
     "end_time": "2024-05-11T07:23:48.376000",
     "exception": false,
     "start_time": "2024-05-11T07:23:48.345868",
     "status": "completed"
    },
    "tags": []
   },
   "outputs": [
    {
     "data": {
      "text/plain": [
       "(9822, 2)"
      ]
     },
     "execution_count": 14,
     "metadata": {},
     "output_type": "execute_result"
    }
   ],
   "source": [
    "test_df.shape"
   ]
  },
  {
   "cell_type": "code",
   "execution_count": 15,
   "id": "7b4ce4b5",
   "metadata": {
    "execution": {
     "iopub.execute_input": "2024-05-11T07:23:48.420722Z",
     "iopub.status.busy": "2024-05-11T07:23:48.420159Z",
     "iopub.status.idle": "2024-05-11T07:27:31.505378Z",
     "shell.execute_reply": "2024-05-11T07:27:31.504364Z"
    },
    "papermill": {
     "duration": 223.131694,
     "end_time": "2024-05-11T07:27:31.529490",
     "exception": false,
     "start_time": "2024-05-11T07:23:48.397796",
     "status": "completed"
    },
    "tags": []
   },
   "outputs": [
    {
     "data": {
      "text/html": [
       "<div>\n",
       "<style scoped>\n",
       "    .dataframe tbody tr th:only-of-type {\n",
       "        vertical-align: middle;\n",
       "    }\n",
       "\n",
       "    .dataframe tbody tr th {\n",
       "        vertical-align: top;\n",
       "    }\n",
       "\n",
       "    .dataframe thead th {\n",
       "        text-align: right;\n",
       "    }\n",
       "</style>\n",
       "<table border=\"1\" class=\"dataframe\">\n",
       "  <thead>\n",
       "    <tr style=\"text-align: right;\">\n",
       "      <th></th>\n",
       "      <th>text</th>\n",
       "      <th>hospital_expire_flag</th>\n",
       "    </tr>\n",
       "  </thead>\n",
       "  <tbody>\n",
       "    <tr>\n",
       "      <th>0</th>\n",
       "      <td>chief complaint ams concern for toxic alcohol ...</td>\n",
       "      <td>0</td>\n",
       "    </tr>\n",
       "    <tr>\n",
       "      <th>1</th>\n",
       "      <td>chief complaint abdominal pain\\npresent illnes...</td>\n",
       "      <td>0</td>\n",
       "    </tr>\n",
       "    <tr>\n",
       "      <th>2</th>\n",
       "      <td>chief complaint bilateral sub dural hematoma\\n...</td>\n",
       "      <td>0</td>\n",
       "    </tr>\n",
       "    <tr>\n",
       "      <th>3</th>\n",
       "      <td>chief complaint intracranial bleed\\npresent il...</td>\n",
       "      <td>0</td>\n",
       "    </tr>\n",
       "    <tr>\n",
       "      <th>4</th>\n",
       "      <td>chief complaint ischemic left foot\\npresent il...</td>\n",
       "      <td>0</td>\n",
       "    </tr>\n",
       "  </tbody>\n",
       "</table>\n",
       "</div>"
      ],
      "text/plain": [
       "                                                text  hospital_expire_flag\n",
       "0  chief complaint ams concern for toxic alcohol ...                     0\n",
       "1  chief complaint abdominal pain\\npresent illnes...                     0\n",
       "2  chief complaint bilateral sub dural hematoma\\n...                     0\n",
       "3  chief complaint intracranial bleed\\npresent il...                     0\n",
       "4  chief complaint ischemic left foot\\npresent il...                     0"
      ]
     },
     "execution_count": 15,
     "metadata": {},
     "output_type": "execute_result"
    }
   ],
   "source": [
    "# Apply text cleaning function\n",
    "train_df['text'] = train_df['text'].apply(lambda x: clean(x,\n",
    "                                                        fix_unicode=True,\n",
    "                                                        to_ascii=True,\n",
    "                                                        lower=True,\n",
    "                                                        no_line_breaks=False,\n",
    "                                                        no_urls=True,\n",
    "                                                        no_emails=True,\n",
    "                                                        no_phone_numbers=True,\n",
    "                                                        no_numbers=True,\n",
    "                                                        no_currency_symbols=True,\n",
    "                                                        no_punct=True,\n",
    "                                                        replace_with_punct=\"\",\n",
    "                                                        replace_with_url=\"<URL>\",\n",
    "                                                        replace_with_email=\"<EMAIL>\",\n",
    "                                                        replace_with_phone_number=\"<PHONE>\",\n",
    "                                                        replace_with_number=\"<NUMBER>\",\n",
    "                                                        replace_with_currency_symbol=\"<CUR>\",\n",
    "                                                        lang=\"en\"\n",
    "                                                        ))\n",
    "\n",
    "train_df.head()"
   ]
  },
  {
   "cell_type": "code",
   "execution_count": 16,
   "id": "c5b91f28",
   "metadata": {
    "execution": {
     "iopub.execute_input": "2024-05-11T07:27:31.575875Z",
     "iopub.status.busy": "2024-05-11T07:27:31.575503Z",
     "iopub.status.idle": "2024-05-11T07:28:36.741812Z",
     "shell.execute_reply": "2024-05-11T07:28:36.740813Z"
    },
    "papermill": {
     "duration": 65.216106,
     "end_time": "2024-05-11T07:28:36.767801",
     "exception": false,
     "start_time": "2024-05-11T07:27:31.551695",
     "status": "completed"
    },
    "tags": []
   },
   "outputs": [
    {
     "data": {
      "text/html": [
       "<div>\n",
       "<style scoped>\n",
       "    .dataframe tbody tr th:only-of-type {\n",
       "        vertical-align: middle;\n",
       "    }\n",
       "\n",
       "    .dataframe tbody tr th {\n",
       "        vertical-align: top;\n",
       "    }\n",
       "\n",
       "    .dataframe thead th {\n",
       "        text-align: right;\n",
       "    }\n",
       "</style>\n",
       "<table border=\"1\" class=\"dataframe\">\n",
       "  <thead>\n",
       "    <tr style=\"text-align: right;\">\n",
       "      <th></th>\n",
       "      <th>text</th>\n",
       "      <th>hospital_expire_flag</th>\n",
       "    </tr>\n",
       "  </thead>\n",
       "  <tbody>\n",
       "    <tr>\n",
       "      <th>0</th>\n",
       "      <td>chief complaint\\npresent illness the patient i...</td>\n",
       "      <td>0</td>\n",
       "    </tr>\n",
       "    <tr>\n",
       "      <th>1</th>\n",
       "      <td>chief complaint shortness of breath\\npresent i...</td>\n",
       "      <td>0</td>\n",
       "    </tr>\n",
       "    <tr>\n",
       "      <th>2</th>\n",
       "      <td>chief complaint sp mechanical fall\\npresent il...</td>\n",
       "      <td>0</td>\n",
       "    </tr>\n",
       "    <tr>\n",
       "      <th>3</th>\n",
       "      <td>chief complaint nausea and vomiting\\npresent i...</td>\n",
       "      <td>0</td>\n",
       "    </tr>\n",
       "    <tr>\n",
       "      <th>4</th>\n",
       "      <td>chief complaint\\npresent illness the patient i...</td>\n",
       "      <td>1</td>\n",
       "    </tr>\n",
       "  </tbody>\n",
       "</table>\n",
       "</div>"
      ],
      "text/plain": [
       "                                                text  hospital_expire_flag\n",
       "0  chief complaint\\npresent illness the patient i...                     0\n",
       "1  chief complaint shortness of breath\\npresent i...                     0\n",
       "2  chief complaint sp mechanical fall\\npresent il...                     0\n",
       "3  chief complaint nausea and vomiting\\npresent i...                     0\n",
       "4  chief complaint\\npresent illness the patient i...                     1"
      ]
     },
     "execution_count": 16,
     "metadata": {},
     "output_type": "execute_result"
    }
   ],
   "source": [
    "# Apply text cleaning function\n",
    "test_df['text'] = test_df['text'].apply(lambda x: clean(x,\n",
    "                                                        fix_unicode=True,\n",
    "                                                        to_ascii=True,\n",
    "                                                        lower=True,\n",
    "                                                        no_line_breaks=False,\n",
    "                                                        no_urls=True,\n",
    "                                                        no_emails=True,\n",
    "                                                        no_phone_numbers=True,\n",
    "                                                        no_numbers=True,\n",
    "                                                        no_currency_symbols=True,\n",
    "                                                        no_punct=True,\n",
    "                                                        replace_with_punct=\"\",\n",
    "                                                        replace_with_url=\"<URL>\",\n",
    "                                                        replace_with_email=\"<EMAIL>\",\n",
    "                                                        replace_with_phone_number=\"<PHONE>\",\n",
    "                                                        replace_with_number=\"<NUMBER>\",\n",
    "                                                        replace_with_currency_symbol=\"<CUR>\",\n",
    "                                                        lang=\"en\"\n",
    "                                                        ))\n",
    "\n",
    "test_df.head()"
   ]
  },
  {
   "cell_type": "code",
   "execution_count": 17,
   "id": "4aae3109",
   "metadata": {
    "execution": {
     "iopub.execute_input": "2024-05-11T07:28:36.812799Z",
     "iopub.status.busy": "2024-05-11T07:28:36.812476Z",
     "iopub.status.idle": "2024-05-11T07:29:08.763544Z",
     "shell.execute_reply": "2024-05-11T07:29:08.762519Z"
    },
    "papermill": {
     "duration": 31.998486,
     "end_time": "2024-05-11T07:29:08.788121",
     "exception": false,
     "start_time": "2024-05-11T07:28:36.789635",
     "status": "completed"
    },
    "tags": []
   },
   "outputs": [
    {
     "data": {
      "text/html": [
       "<div>\n",
       "<style scoped>\n",
       "    .dataframe tbody tr th:only-of-type {\n",
       "        vertical-align: middle;\n",
       "    }\n",
       "\n",
       "    .dataframe tbody tr th {\n",
       "        vertical-align: top;\n",
       "    }\n",
       "\n",
       "    .dataframe thead th {\n",
       "        text-align: right;\n",
       "    }\n",
       "</style>\n",
       "<table border=\"1\" class=\"dataframe\">\n",
       "  <thead>\n",
       "    <tr style=\"text-align: right;\">\n",
       "      <th></th>\n",
       "      <th>text</th>\n",
       "      <th>hospital_expire_flag</th>\n",
       "    </tr>\n",
       "  </thead>\n",
       "  <tbody>\n",
       "    <tr>\n",
       "      <th>0</th>\n",
       "      <td>chief complaint lethargy confusion hyponatremi...</td>\n",
       "      <td>0</td>\n",
       "    </tr>\n",
       "    <tr>\n",
       "      <th>1</th>\n",
       "      <td>chief complaint dyspnea le edema\\npresent illn...</td>\n",
       "      <td>0</td>\n",
       "    </tr>\n",
       "    <tr>\n",
       "      <th>2</th>\n",
       "      <td>chief complaint upper gi bleed\\npresent illnes...</td>\n",
       "      <td>1</td>\n",
       "    </tr>\n",
       "    <tr>\n",
       "      <th>3</th>\n",
       "      <td>chief complaint increased lethargy\\npresent il...</td>\n",
       "      <td>0</td>\n",
       "    </tr>\n",
       "    <tr>\n",
       "      <th>4</th>\n",
       "      <td>chief complaint sp &lt;number&gt; ft fall\\npresent i...</td>\n",
       "      <td>0</td>\n",
       "    </tr>\n",
       "  </tbody>\n",
       "</table>\n",
       "</div>"
      ],
      "text/plain": [
       "                                                text  hospital_expire_flag\n",
       "0  chief complaint lethargy confusion hyponatremi...                     0\n",
       "1  chief complaint dyspnea le edema\\npresent illn...                     0\n",
       "2  chief complaint upper gi bleed\\npresent illnes...                     1\n",
       "3  chief complaint increased lethargy\\npresent il...                     0\n",
       "4  chief complaint sp <number> ft fall\\npresent i...                     0"
      ]
     },
     "execution_count": 17,
     "metadata": {},
     "output_type": "execute_result"
    }
   ],
   "source": [
    "# Apply text cleaning function\n",
    "val_df['text'] = val_df['text'].apply(lambda x: clean(x,\n",
    "                                                        fix_unicode=True,\n",
    "                                                        to_ascii=True,\n",
    "                                                        lower=True,\n",
    "                                                        no_line_breaks=False,\n",
    "                                                        no_urls=True,\n",
    "                                                        no_emails=True,\n",
    "                                                        no_phone_numbers=True,\n",
    "                                                        no_numbers=True,\n",
    "                                                        no_currency_symbols=True,\n",
    "                                                        no_punct=True,\n",
    "                                                        replace_with_punct=\"\",\n",
    "                                                        replace_with_url=\"<URL>\",\n",
    "                                                        replace_with_email=\"<EMAIL>\",\n",
    "                                                        replace_with_phone_number=\"<PHONE>\",\n",
    "                                                        replace_with_number=\"<NUMBER>\",\n",
    "                                                        replace_with_currency_symbol=\"<CUR>\",\n",
    "                                                        lang=\"en\"\n",
    "                                                        ))\n",
    "\n",
    "val_df.head()"
   ]
  },
  {
   "cell_type": "code",
   "execution_count": 18,
   "id": "199bf89d",
   "metadata": {
    "execution": {
     "iopub.execute_input": "2024-05-11T07:29:08.833273Z",
     "iopub.status.busy": "2024-05-11T07:29:08.832912Z",
     "iopub.status.idle": "2024-05-11T07:29:08.842251Z",
     "shell.execute_reply": "2024-05-11T07:29:08.841406Z"
    },
    "papermill": {
     "duration": 0.034064,
     "end_time": "2024-05-11T07:29:08.844119",
     "exception": false,
     "start_time": "2024-05-11T07:29:08.810055",
     "status": "completed"
    },
    "tags": []
   },
   "outputs": [],
   "source": [
    "train_texts = train_df['text'].tolist()\n",
    "train_labels = train_df['hospital_expire_flag'].tolist()\n",
    "val_texts = val_df['text'].tolist()\n",
    "val_labels = val_df['hospital_expire_flag'].tolist()\n",
    "test_texts = test_df['text'].tolist()\n",
    "test_labels = test_df['hospital_expire_flag'].tolist()"
   ]
  },
  {
   "cell_type": "code",
   "execution_count": 19,
   "id": "d95a6144",
   "metadata": {
    "execution": {
     "iopub.execute_input": "2024-05-11T07:29:08.889027Z",
     "iopub.status.busy": "2024-05-11T07:29:08.888500Z",
     "iopub.status.idle": "2024-05-11T07:29:08.895700Z",
     "shell.execute_reply": "2024-05-11T07:29:08.894788Z"
    },
    "papermill": {
     "duration": 0.031631,
     "end_time": "2024-05-11T07:29:08.897532",
     "exception": false,
     "start_time": "2024-05-11T07:29:08.865901",
     "status": "completed"
    },
    "tags": []
   },
   "outputs": [],
   "source": [
    "class TextClassificationDataset(Dataset):\n",
    "    def __init__(self, texts, labels, tokenizer, max_length):\n",
    "        self.texts = [str(text) for text in texts]\n",
    "        self.labels = labels\n",
    "        self.tokenizer = tokenizer\n",
    "        self.max_length = max_length\n",
    "    def __len__(self):\n",
    "        return len(self.texts)\n",
    "    def __getitem__(self, idx):\n",
    "        text = self.texts[idx]\n",
    "        label = self.labels[idx]\n",
    "        encoding = self.tokenizer(text, return_tensors='pt', max_length=self.max_length, padding='max_length', truncation=True)\n",
    "        return {'input_ids': encoding['input_ids'].flatten(), 'attention_mask': encoding['attention_mask'].flatten(), 'label': torch.tensor(label)}"
   ]
  },
  {
   "cell_type": "code",
   "execution_count": 20,
   "id": "3c8fddac",
   "metadata": {
    "execution": {
     "iopub.execute_input": "2024-05-11T07:29:08.988331Z",
     "iopub.status.busy": "2024-05-11T07:29:08.987645Z",
     "iopub.status.idle": "2024-05-11T07:29:08.994626Z",
     "shell.execute_reply": "2024-05-11T07:29:08.993777Z"
    },
    "papermill": {
     "duration": 0.031951,
     "end_time": "2024-05-11T07:29:08.996535",
     "exception": false,
     "start_time": "2024-05-11T07:29:08.964584",
     "status": "completed"
    },
    "tags": []
   },
   "outputs": [],
   "source": [
    "class BERTClassifier(nn.Module):\n",
    "    def __init__(self, bert_model_name, num_classes):\n",
    "        super(BERTClassifier, self).__init__()\n",
    "        self.bert = BertModel.from_pretrained(bert_model_name)\n",
    "        self.dropout = nn.Dropout(0.2)\n",
    "        self.fc = nn.Linear(self.bert.config.hidden_size, num_classes)\n",
    "\n",
    "    def forward(self, input_ids, attention_mask):\n",
    "        outputs = self.bert(input_ids=input_ids, attention_mask=attention_mask)\n",
    "        pooled_output = outputs.pooler_output\n",
    "        x = self.dropout(pooled_output)\n",
    "        logits = self.fc(x)\n",
    "        return logits"
   ]
  },
  {
   "cell_type": "code",
   "execution_count": 21,
   "id": "0584b595",
   "metadata": {
    "execution": {
     "iopub.execute_input": "2024-05-11T07:29:09.041541Z",
     "iopub.status.busy": "2024-05-11T07:29:09.041221Z",
     "iopub.status.idle": "2024-05-11T07:29:09.045561Z",
     "shell.execute_reply": "2024-05-11T07:29:09.044613Z"
    },
    "papermill": {
     "duration": 0.029043,
     "end_time": "2024-05-11T07:29:09.047427",
     "exception": false,
     "start_time": "2024-05-11T07:29:09.018384",
     "status": "completed"
    },
    "tags": []
   },
   "outputs": [],
   "source": [
    "# Set up parameters\n",
    "bert_model_name = 'dmis-lab/biobert-base-cased-v1.2'\n",
    "num_classes = 2\n",
    "max_length = 512\n",
    "batch_size = 8"
   ]
  },
  {
   "cell_type": "code",
   "execution_count": 22,
   "id": "bd51ba6a",
   "metadata": {
    "execution": {
     "iopub.execute_input": "2024-05-11T07:29:09.092044Z",
     "iopub.status.busy": "2024-05-11T07:29:09.091749Z",
     "iopub.status.idle": "2024-05-11T07:29:10.221168Z",
     "shell.execute_reply": "2024-05-11T07:29:10.220367Z"
    },
    "papermill": {
     "duration": 1.154388,
     "end_time": "2024-05-11T07:29:10.223494",
     "exception": false,
     "start_time": "2024-05-11T07:29:09.069106",
     "status": "completed"
    },
    "tags": []
   },
   "outputs": [
    {
     "data": {
      "application/vnd.jupyter.widget-view+json": {
       "model_id": "8c372f67653e4bc49079d2f18b934a88",
       "version_major": 2,
       "version_minor": 0
      },
      "text/plain": [
       "vocab.txt:   0%|          | 0.00/213k [00:00<?, ?B/s]"
      ]
     },
     "metadata": {},
     "output_type": "display_data"
    },
    {
     "data": {
      "application/vnd.jupyter.widget-view+json": {
       "model_id": "8e69f25d5fd14c1690106cef5a0110fe",
       "version_major": 2,
       "version_minor": 0
      },
      "text/plain": [
       "config.json:   0%|          | 0.00/1.11k [00:00<?, ?B/s]"
      ]
     },
     "metadata": {},
     "output_type": "display_data"
    }
   ],
   "source": [
    "tokenizer = BertTokenizer.from_pretrained(bert_model_name)\n",
    "\n",
    "train_dataset = TextClassificationDataset(train_texts, train_labels, tokenizer, max_length)\n",
    "val_dataset = TextClassificationDataset(val_texts, val_labels, tokenizer, max_length)\n",
    "test_dataset = TextClassificationDataset(test_texts, test_labels, tokenizer, max_length)\n",
    "\n",
    "train_dataloader = DataLoader(train_dataset, batch_size=batch_size, shuffle=True)\n",
    "val_dataloader = DataLoader(val_dataset, batch_size=batch_size)\n",
    "test_dataloader = DataLoader(test_dataset, batch_size=batch_size)"
   ]
  },
  {
   "cell_type": "code",
   "execution_count": 23,
   "id": "a8535f28",
   "metadata": {
    "execution": {
     "iopub.execute_input": "2024-05-11T07:29:10.270426Z",
     "iopub.status.busy": "2024-05-11T07:29:10.269991Z",
     "iopub.status.idle": "2024-05-11T07:29:13.178385Z",
     "shell.execute_reply": "2024-05-11T07:29:13.177577Z"
    },
    "papermill": {
     "duration": 2.9342,
     "end_time": "2024-05-11T07:29:13.180745",
     "exception": false,
     "start_time": "2024-05-11T07:29:10.246545",
     "status": "completed"
    },
    "tags": []
   },
   "outputs": [
    {
     "data": {
      "application/vnd.jupyter.widget-view+json": {
       "model_id": "9c96e11d4dd84921a3d8e2f777a5736f",
       "version_major": 2,
       "version_minor": 0
      },
      "text/plain": [
       "pytorch_model.bin:   0%|          | 0.00/436M [00:00<?, ?B/s]"
      ]
     },
     "metadata": {},
     "output_type": "display_data"
    },
    {
     "name": "stderr",
     "output_type": "stream",
     "text": [
      "/opt/conda/lib/python3.10/site-packages/torch/_utils.py:831: UserWarning: TypedStorage is deprecated. It will be removed in the future and UntypedStorage will be the only storage class. This should only matter to you if you are using storages directly.  To access UntypedStorage directly, use tensor.untyped_storage() instead of tensor.storage()\n",
      "  return self.fget.__get__(instance, owner)()\n"
     ]
    }
   ],
   "source": [
    "device = torch.device(\"cuda\" if torch.cuda.is_available() else \"cpu\")\n",
    "model = BERTClassifier(bert_model_name, num_classes).to(device)"
   ]
  },
  {
   "cell_type": "code",
   "execution_count": 24,
   "id": "c4d5d087",
   "metadata": {
    "execution": {
     "iopub.execute_input": "2024-05-11T07:29:13.228574Z",
     "iopub.status.busy": "2024-05-11T07:29:13.228212Z",
     "iopub.status.idle": "2024-05-11T07:29:13.235747Z",
     "shell.execute_reply": "2024-05-11T07:29:13.234803Z"
    },
    "papermill": {
     "duration": 0.033875,
     "end_time": "2024-05-11T07:29:13.237730",
     "exception": false,
     "start_time": "2024-05-11T07:29:13.203855",
     "status": "completed"
    },
    "tags": []
   },
   "outputs": [],
   "source": [
    "epochs = 20\n",
    "best_roc_auc = 0.0\n",
    "min_delta = 0.0001\n",
    "early_stopping_count = 0\n",
    "early_stopping_patience = 3\n",
    "gradient_accumulation_steps = 10\n",
    "\n",
    "# Set the optimizer\n",
    "optimizer = optim.AdamW(model.parameters(), lr=1e-5, weight_decay=0.01)\n",
    "\n",
    "# Set the scheduler\n",
    "scheduler = get_linear_schedule_with_warmup(\n",
    "    optimizer, \n",
    "    num_warmup_steps=50, \n",
    "    num_training_steps=len(train_dataloader) * epochs // gradient_accumulation_steps\n",
    ")\n"
   ]
  },
  {
   "cell_type": "code",
   "execution_count": 25,
   "id": "990e1d9f",
   "metadata": {
    "execution": {
     "iopub.execute_input": "2024-05-11T07:29:13.285817Z",
     "iopub.status.busy": "2024-05-11T07:29:13.285474Z",
     "iopub.status.idle": "2024-05-11T12:18:47.492524Z",
     "shell.execute_reply": "2024-05-11T12:18:47.491617Z"
    },
    "papermill": {
     "duration": 17374.256916,
     "end_time": "2024-05-11T12:18:47.518041",
     "exception": false,
     "start_time": "2024-05-11T07:29:13.261125",
     "status": "completed"
    },
    "tags": []
   },
   "outputs": [
    {
     "name": "stdout",
     "output_type": "stream",
     "text": [
      "Epoch: 1/20, Training Loss: 0.3631, Validation Loss: 0.3143\n",
      "Accuracy: 0.8945, Recall: 0.8945, Precision: 0.8001, F1: 0.8446269609908136, Micro F1: 0.8945, Macro Roc Auc: 0.6985\n"
     ]
    },
    {
     "name": "stderr",
     "output_type": "stream",
     "text": [
      "/opt/conda/lib/python3.10/site-packages/sklearn/metrics/_classification.py:1344: UndefinedMetricWarning: Precision is ill-defined and being set to 0.0 in labels with no predicted samples. Use `zero_division` parameter to control this behavior.\n",
      "  _warn_prf(average, modifier, msg_start, len(result))\n"
     ]
    },
    {
     "name": "stdout",
     "output_type": "stream",
     "text": [
      "Epoch: 2/20, Training Loss: 0.3038, Validation Loss: 0.2888\n",
      "Accuracy: 0.8945, Recall: 0.8945, Precision: 0.8001, F1: 0.8446269609908136, Micro F1: 0.8945, Macro Roc Auc: 0.7874\n"
     ]
    },
    {
     "name": "stderr",
     "output_type": "stream",
     "text": [
      "/opt/conda/lib/python3.10/site-packages/sklearn/metrics/_classification.py:1344: UndefinedMetricWarning: Precision is ill-defined and being set to 0.0 in labels with no predicted samples. Use `zero_division` parameter to control this behavior.\n",
      "  _warn_prf(average, modifier, msg_start, len(result))\n"
     ]
    },
    {
     "name": "stdout",
     "output_type": "stream",
     "text": [
      "Epoch: 3/20, Training Loss: 0.2722, Validation Loss: 0.2738\n",
      "Accuracy: 0.8996, Recall: 0.8996, Precision: 0.8807, F1: 0.8626941036630947, Micro F1: 0.8996, Macro Roc Auc: 0.8104\n",
      "Epoch: 4/20, Training Loss: 0.2453, Validation Loss: 0.2784\n",
      "Accuracy: 0.9010, Recall: 0.9010, Precision: 0.8792, F1: 0.8710101843857291, Micro F1: 0.9010, Macro Roc Auc: 0.8128\n",
      "Epoch: 5/20, Training Loss: 0.2162, Validation Loss: 0.2818\n",
      "Accuracy: 0.9002, Recall: 0.9002, Precision: 0.8771, F1: 0.8778408857075657, Micro F1: 0.9002, Macro Roc Auc: 0.8129\n",
      "EarlyStopping counter: 1 out of 3\n",
      "Epoch: 6/20, Training Loss: 0.1812, Validation Loss: 0.3015\n",
      "Accuracy: 0.8879, Recall: 0.8879, Precision: 0.8692, F1: 0.8760876600028763, Micro F1: 0.8879, Macro Roc Auc: 0.8045\n",
      "EarlyStopping counter: 2 out of 3\n",
      "Epoch: 7/20, Training Loss: 0.1412, Validation Loss: 0.3422\n",
      "Accuracy: 0.8755, Recall: 0.8755, Precision: 0.8639, F1: 0.8690895431782002, Micro F1: 0.8755, Macro Roc Auc: 0.7869\n",
      "EarlyStopping counter: 3 out of 3\n",
      "Early stopping\n"
     ]
    }
   ],
   "source": [
    "# Training loop\n",
    "for epoch in range(epochs):\n",
    "    model.train()\n",
    "    train_loss = 0\n",
    "    for step, batch in enumerate(train_dataloader):\n",
    "        optimizer.zero_grad() if step % gradient_accumulation_steps == 0 else None\n",
    "        input_ids = batch['input_ids'].to(device)\n",
    "        attention_mask = batch['attention_mask'].to(device)\n",
    "        labels = batch['label'].to(device)\n",
    "        outputs = model(input_ids, attention_mask)\n",
    "        loss = nn.CrossEntropyLoss()(outputs, labels)\n",
    "        (loss / gradient_accumulation_steps).backward()\n",
    "        train_loss += loss.item()\n",
    "        if (step + 1) % gradient_accumulation_steps == 0 or (step + 1) == len(train_dataloader):\n",
    "            optimizer.step()\n",
    "            scheduler.step()\n",
    "            \n",
    "    model.eval()\n",
    "    val_loss = 0\n",
    "    val_preds = []\n",
    "    val_labels = []\n",
    "    with torch.no_grad():\n",
    "        for batch in val_dataloader:\n",
    "            input_ids = batch['input_ids'].to(device)\n",
    "            attention_mask = batch['attention_mask'].to(device)\n",
    "            labels = batch['label'].to(device)\n",
    "            outputs = model(input_ids, attention_mask)\n",
    "            loss = nn.CrossEntropyLoss()(outputs, labels)\n",
    "            val_loss += loss.item()\n",
    "            val_preds.append(F.softmax(outputs, dim=1).cpu().numpy())\n",
    "            val_labels.append(labels.cpu().numpy())\n",
    "            \n",
    "    val_preds = np.concatenate(val_preds)\n",
    "    val_labels = np.concatenate(val_labels)\n",
    "    val_loss /= len(val_dataloader)\n",
    "    train_loss /= len(train_dataloader)\n",
    "    print(f'Epoch: {epoch+1}/{epochs}, Training Loss: {train_loss:.4f}, Validation Loss: {val_loss:.4f}')\n",
    "    \n",
    "    # Calculate metrics\n",
    "    val_preds_class = np.argmax(val_preds, axis=1)\n",
    "    accuracy = accuracy_score(val_labels, val_preds_class)\n",
    "    recall = recall_score(val_labels, val_preds_class, average='weighted')\n",
    "    precision = precision_score(val_labels, val_preds_class, average='weighted')\n",
    "    f1 = f1_score(val_labels, val_preds_class, average='weighted')\n",
    "    micro_f1 = f1_score(val_labels, val_preds_class, average='micro')\n",
    "    macro_roc_auc = roc_auc_score(val_labels, val_preds[:, 1], multi_class='ovo', average='macro')  # Changed val_preds to val_preds[:, 1]\n",
    "    \n",
    "    print(f'Accuracy: {accuracy:.4f}, Recall: {recall:.4f}, Precision: {precision:.4f}, F1: {f1}, Micro F1: {micro_f1:.4f}, Macro Roc Auc: {macro_roc_auc:.4f}')\n",
    "            \n",
    "    # Implement early stopping\n",
    "    if epoch > 0 and macro_roc_auc - best_roc_auc < min_delta:\n",
    "        early_stopping_count += 1\n",
    "        print(f'EarlyStopping counter: {early_stopping_count} out of {early_stopping_patience}')\n",
    "        if early_stopping_count >= early_stopping_patience:\n",
    "            print('Early stopping')\n",
    "            break\n",
    "    else:\n",
    "        best_roc_auc = macro_roc_auc\n",
    "        early_stopping_count = 0  # Reset early stopping counter\n"
   ]
  },
  {
   "cell_type": "code",
   "execution_count": 26,
   "id": "a82955ac",
   "metadata": {
    "execution": {
     "iopub.execute_input": "2024-05-11T12:18:47.566104Z",
     "iopub.status.busy": "2024-05-11T12:18:47.565328Z",
     "iopub.status.idle": "2024-05-11T12:24:24.692084Z",
     "shell.execute_reply": "2024-05-11T12:24:24.690967Z"
    },
    "papermill": {
     "duration": 337.153765,
     "end_time": "2024-05-11T12:24:24.694782",
     "exception": false,
     "start_time": "2024-05-11T12:18:47.541017",
     "status": "completed"
    },
    "tags": []
   },
   "outputs": [],
   "source": [
    "model.eval()\n",
    "\n",
    "test_preds = []\n",
    "test_labels = []\n",
    "\n",
    "# Iterate over test data\n",
    "with torch.no_grad():\n",
    "    for batch in test_dataloader:\n",
    "        input_ids = batch['input_ids'].to(device)\n",
    "        attention_mask = batch['attention_mask'].to(device)\n",
    "        labels = batch['label'].to(device)\n",
    "        outputs = model(input_ids, attention_mask)\n",
    "        test_preds.append(F.softmax(outputs, dim=1).cpu().numpy())\n",
    "        test_labels.append(labels.cpu().numpy())\n"
   ]
  },
  {
   "cell_type": "code",
   "execution_count": 27,
   "id": "8feb416e",
   "metadata": {
    "execution": {
     "iopub.execute_input": "2024-05-11T12:24:24.742950Z",
     "iopub.status.busy": "2024-05-11T12:24:24.742634Z",
     "iopub.status.idle": "2024-05-11T12:24:24.781379Z",
     "shell.execute_reply": "2024-05-11T12:24:24.780508Z"
    },
    "papermill": {
     "duration": 0.064607,
     "end_time": "2024-05-11T12:24:24.783280",
     "exception": false,
     "start_time": "2024-05-11T12:24:24.718673",
     "status": "completed"
    },
    "tags": []
   },
   "outputs": [
    {
     "name": "stdout",
     "output_type": "stream",
     "text": [
      "              precision    recall  f1-score   support\n",
      "\n",
      "           0     0.9236    0.9404    0.9320      8797\n",
      "           1     0.3942    0.3327    0.3608      1025\n",
      "\n",
      "    accuracy                         0.8770      9822\n",
      "   macro avg     0.6589    0.6366    0.6464      9822\n",
      "weighted avg     0.8684    0.8770    0.8724      9822\n",
      "\n"
     ]
    }
   ],
   "source": [
    "test_preds = np.concatenate(test_preds)\n",
    "test_labels = np.concatenate(test_labels)\n",
    "\n",
    "test_preds_class = np.argmax(test_preds, axis=1)\n",
    "\n",
    "report = classification_report(test_labels, test_preds_class, digits=4)\n",
    "\n",
    "print(report)"
   ]
  },
  {
   "cell_type": "code",
   "execution_count": null,
   "id": "0d19672d",
   "metadata": {
    "papermill": {
     "duration": 0.022644,
     "end_time": "2024-05-11T12:24:24.829047",
     "exception": false,
     "start_time": "2024-05-11T12:24:24.806403",
     "status": "completed"
    },
    "tags": []
   },
   "outputs": [],
   "source": []
  }
 ],
 "metadata": {
  "kaggle": {
   "accelerator": "gpu",
   "dataSources": [
    {
     "datasetId": 4981832,
     "sourceId": 8378049,
     "sourceType": "datasetVersion"
    },
    {
     "datasetId": 4981834,
     "sourceId": 8378051,
     "sourceType": "datasetVersion"
    },
    {
     "datasetId": 4981838,
     "sourceId": 8378055,
     "sourceType": "datasetVersion"
    }
   ],
   "isGpuEnabled": true,
   "isInternetEnabled": true,
   "language": "python",
   "sourceType": "notebook"
  },
  "kernelspec": {
   "display_name": "Python 3",
   "language": "python",
   "name": "python3"
  },
  "language_info": {
   "codemirror_mode": {
    "name": "ipython",
    "version": 3
   },
   "file_extension": ".py",
   "mimetype": "text/x-python",
   "name": "python",
   "nbconvert_exporter": "python",
   "pygments_lexer": "ipython3",
   "version": "3.10.13"
  },
  "papermill": {
   "default_parameters": {},
   "duration": 18070.098718,
   "end_time": "2024-05-11T12:24:27.017167",
   "environment_variables": {},
   "exception": null,
   "input_path": "__notebook__.ipynb",
   "output_path": "__notebook__.ipynb",
   "parameters": {},
   "start_time": "2024-05-11T07:23:16.918449",
   "version": "2.5.0"
  },
  "widgets": {
   "application/vnd.jupyter.widget-state+json": {
    "state": {
     "06e9bf99a90a45f7bd2cb704a7593cf1": {
      "model_module": "@jupyter-widgets/base",
      "model_module_version": "1.2.0",
      "model_name": "LayoutModel",
      "state": {
       "_model_module": "@jupyter-widgets/base",
       "_model_module_version": "1.2.0",
       "_model_name": "LayoutModel",
       "_view_count": null,
       "_view_module": "@jupyter-widgets/base",
       "_view_module_version": "1.2.0",
       "_view_name": "LayoutView",
       "align_content": null,
       "align_items": null,
       "align_self": null,
       "border": null,
       "bottom": null,
       "display": null,
       "flex": null,
       "flex_flow": null,
       "grid_area": null,
       "grid_auto_columns": null,
       "grid_auto_flow": null,
       "grid_auto_rows": null,
       "grid_column": null,
       "grid_gap": null,
       "grid_row": null,
       "grid_template_areas": null,
       "grid_template_columns": null,
       "grid_template_rows": null,
       "height": null,
       "justify_content": null,
       "justify_items": null,
       "left": null,
       "margin": null,
       "max_height": null,
       "max_width": null,
       "min_height": null,
       "min_width": null,
       "object_fit": null,
       "object_position": null,
       "order": null,
       "overflow": null,
       "overflow_x": null,
       "overflow_y": null,
       "padding": null,
       "right": null,
       "top": null,
       "visibility": null,
       "width": null
      }
     },
     "07ce2ce139e047478bf2c87d3a96a0c2": {
      "model_module": "@jupyter-widgets/base",
      "model_module_version": "1.2.0",
      "model_name": "LayoutModel",
      "state": {
       "_model_module": "@jupyter-widgets/base",
       "_model_module_version": "1.2.0",
       "_model_name": "LayoutModel",
       "_view_count": null,
       "_view_module": "@jupyter-widgets/base",
       "_view_module_version": "1.2.0",
       "_view_name": "LayoutView",
       "align_content": null,
       "align_items": null,
       "align_self": null,
       "border": null,
       "bottom": null,
       "display": null,
       "flex": null,
       "flex_flow": null,
       "grid_area": null,
       "grid_auto_columns": null,
       "grid_auto_flow": null,
       "grid_auto_rows": null,
       "grid_column": null,
       "grid_gap": null,
       "grid_row": null,
       "grid_template_areas": null,
       "grid_template_columns": null,
       "grid_template_rows": null,
       "height": null,
       "justify_content": null,
       "justify_items": null,
       "left": null,
       "margin": null,
       "max_height": null,
       "max_width": null,
       "min_height": null,
       "min_width": null,
       "object_fit": null,
       "object_position": null,
       "order": null,
       "overflow": null,
       "overflow_x": null,
       "overflow_y": null,
       "padding": null,
       "right": null,
       "top": null,
       "visibility": null,
       "width": null
      }
     },
     "0bf3abc714cb490387d54bc24689e575": {
      "model_module": "@jupyter-widgets/controls",
      "model_module_version": "1.5.0",
      "model_name": "ProgressStyleModel",
      "state": {
       "_model_module": "@jupyter-widgets/controls",
       "_model_module_version": "1.5.0",
       "_model_name": "ProgressStyleModel",
       "_view_count": null,
       "_view_module": "@jupyter-widgets/base",
       "_view_module_version": "1.2.0",
       "_view_name": "StyleView",
       "bar_color": null,
       "description_width": ""
      }
     },
     "19be61033f394f689b1fe0cc67eb76c1": {
      "model_module": "@jupyter-widgets/base",
      "model_module_version": "1.2.0",
      "model_name": "LayoutModel",
      "state": {
       "_model_module": "@jupyter-widgets/base",
       "_model_module_version": "1.2.0",
       "_model_name": "LayoutModel",
       "_view_count": null,
       "_view_module": "@jupyter-widgets/base",
       "_view_module_version": "1.2.0",
       "_view_name": "LayoutView",
       "align_content": null,
       "align_items": null,
       "align_self": null,
       "border": null,
       "bottom": null,
       "display": null,
       "flex": null,
       "flex_flow": null,
       "grid_area": null,
       "grid_auto_columns": null,
       "grid_auto_flow": null,
       "grid_auto_rows": null,
       "grid_column": null,
       "grid_gap": null,
       "grid_row": null,
       "grid_template_areas": null,
       "grid_template_columns": null,
       "grid_template_rows": null,
       "height": null,
       "justify_content": null,
       "justify_items": null,
       "left": null,
       "margin": null,
       "max_height": null,
       "max_width": null,
       "min_height": null,
       "min_width": null,
       "object_fit": null,
       "object_position": null,
       "order": null,
       "overflow": null,
       "overflow_x": null,
       "overflow_y": null,
       "padding": null,
       "right": null,
       "top": null,
       "visibility": null,
       "width": null
      }
     },
     "23a05c8ebd1a450d8a3444d75aba6dfd": {
      "model_module": "@jupyter-widgets/base",
      "model_module_version": "1.2.0",
      "model_name": "LayoutModel",
      "state": {
       "_model_module": "@jupyter-widgets/base",
       "_model_module_version": "1.2.0",
       "_model_name": "LayoutModel",
       "_view_count": null,
       "_view_module": "@jupyter-widgets/base",
       "_view_module_version": "1.2.0",
       "_view_name": "LayoutView",
       "align_content": null,
       "align_items": null,
       "align_self": null,
       "border": null,
       "bottom": null,
       "display": null,
       "flex": null,
       "flex_flow": null,
       "grid_area": null,
       "grid_auto_columns": null,
       "grid_auto_flow": null,
       "grid_auto_rows": null,
       "grid_column": null,
       "grid_gap": null,
       "grid_row": null,
       "grid_template_areas": null,
       "grid_template_columns": null,
       "grid_template_rows": null,
       "height": null,
       "justify_content": null,
       "justify_items": null,
       "left": null,
       "margin": null,
       "max_height": null,
       "max_width": null,
       "min_height": null,
       "min_width": null,
       "object_fit": null,
       "object_position": null,
       "order": null,
       "overflow": null,
       "overflow_x": null,
       "overflow_y": null,
       "padding": null,
       "right": null,
       "top": null,
       "visibility": null,
       "width": null
      }
     },
     "28ef06d4f4c44924b8b40047db6d100f": {
      "model_module": "@jupyter-widgets/controls",
      "model_module_version": "1.5.0",
      "model_name": "DescriptionStyleModel",
      "state": {
       "_model_module": "@jupyter-widgets/controls",
       "_model_module_version": "1.5.0",
       "_model_name": "DescriptionStyleModel",
       "_view_count": null,
       "_view_module": "@jupyter-widgets/base",
       "_view_module_version": "1.2.0",
       "_view_name": "StyleView",
       "description_width": ""
      }
     },
     "2d417c83197c49f6a03796e74f918be5": {
      "model_module": "@jupyter-widgets/controls",
      "model_module_version": "1.5.0",
      "model_name": "FloatProgressModel",
      "state": {
       "_dom_classes": [],
       "_model_module": "@jupyter-widgets/controls",
       "_model_module_version": "1.5.0",
       "_model_name": "FloatProgressModel",
       "_view_count": null,
       "_view_module": "@jupyter-widgets/controls",
       "_view_module_version": "1.5.0",
       "_view_name": "ProgressView",
       "bar_style": "success",
       "description": "",
       "description_tooltip": null,
       "layout": "IPY_MODEL_db4593523af04889b644d24595491136",
       "max": 435783451.0,
       "min": 0.0,
       "orientation": "horizontal",
       "style": "IPY_MODEL_0bf3abc714cb490387d54bc24689e575",
       "value": 435783451.0
      }
     },
     "4060c2ac0c334b7dabd662517042119a": {
      "model_module": "@jupyter-widgets/controls",
      "model_module_version": "1.5.0",
      "model_name": "DescriptionStyleModel",
      "state": {
       "_model_module": "@jupyter-widgets/controls",
       "_model_module_version": "1.5.0",
       "_model_name": "DescriptionStyleModel",
       "_view_count": null,
       "_view_module": "@jupyter-widgets/base",
       "_view_module_version": "1.2.0",
       "_view_name": "StyleView",
       "description_width": ""
      }
     },
     "4409cd43e67f4d08a6c0bb298b537e81": {
      "model_module": "@jupyter-widgets/controls",
      "model_module_version": "1.5.0",
      "model_name": "ProgressStyleModel",
      "state": {
       "_model_module": "@jupyter-widgets/controls",
       "_model_module_version": "1.5.0",
       "_model_name": "ProgressStyleModel",
       "_view_count": null,
       "_view_module": "@jupyter-widgets/base",
       "_view_module_version": "1.2.0",
       "_view_name": "StyleView",
       "bar_color": null,
       "description_width": ""
      }
     },
     "4cd80e2b68134524ac38b47eb20051ca": {
      "model_module": "@jupyter-widgets/controls",
      "model_module_version": "1.5.0",
      "model_name": "HTMLModel",
      "state": {
       "_dom_classes": [],
       "_model_module": "@jupyter-widgets/controls",
       "_model_module_version": "1.5.0",
       "_model_name": "HTMLModel",
       "_view_count": null,
       "_view_module": "@jupyter-widgets/controls",
       "_view_module_version": "1.5.0",
       "_view_name": "HTMLView",
       "description": "",
       "description_tooltip": null,
       "layout": "IPY_MODEL_23a05c8ebd1a450d8a3444d75aba6dfd",
       "placeholder": "​",
       "style": "IPY_MODEL_28ef06d4f4c44924b8b40047db6d100f",
       "value": " 213k/213k [00:00&lt;00:00, 1.32MB/s]"
      }
     },
     "5d9d6b458fc146e892621a6778027b2b": {
      "model_module": "@jupyter-widgets/controls",
      "model_module_version": "1.5.0",
      "model_name": "DescriptionStyleModel",
      "state": {
       "_model_module": "@jupyter-widgets/controls",
       "_model_module_version": "1.5.0",
       "_model_name": "DescriptionStyleModel",
       "_view_count": null,
       "_view_module": "@jupyter-widgets/base",
       "_view_module_version": "1.2.0",
       "_view_name": "StyleView",
       "description_width": ""
      }
     },
     "61d0d98bab9d4eb6b55d0f6eb1fb72bf": {
      "model_module": "@jupyter-widgets/controls",
      "model_module_version": "1.5.0",
      "model_name": "DescriptionStyleModel",
      "state": {
       "_model_module": "@jupyter-widgets/controls",
       "_model_module_version": "1.5.0",
       "_model_name": "DescriptionStyleModel",
       "_view_count": null,
       "_view_module": "@jupyter-widgets/base",
       "_view_module_version": "1.2.0",
       "_view_name": "StyleView",
       "description_width": ""
      }
     },
     "7dcd7ce551a14aa9b9e150c9cb553476": {
      "model_module": "@jupyter-widgets/base",
      "model_module_version": "1.2.0",
      "model_name": "LayoutModel",
      "state": {
       "_model_module": "@jupyter-widgets/base",
       "_model_module_version": "1.2.0",
       "_model_name": "LayoutModel",
       "_view_count": null,
       "_view_module": "@jupyter-widgets/base",
       "_view_module_version": "1.2.0",
       "_view_name": "LayoutView",
       "align_content": null,
       "align_items": null,
       "align_self": null,
       "border": null,
       "bottom": null,
       "display": null,
       "flex": null,
       "flex_flow": null,
       "grid_area": null,
       "grid_auto_columns": null,
       "grid_auto_flow": null,
       "grid_auto_rows": null,
       "grid_column": null,
       "grid_gap": null,
       "grid_row": null,
       "grid_template_areas": null,
       "grid_template_columns": null,
       "grid_template_rows": null,
       "height": null,
       "justify_content": null,
       "justify_items": null,
       "left": null,
       "margin": null,
       "max_height": null,
       "max_width": null,
       "min_height": null,
       "min_width": null,
       "object_fit": null,
       "object_position": null,
       "order": null,
       "overflow": null,
       "overflow_x": null,
       "overflow_y": null,
       "padding": null,
       "right": null,
       "top": null,
       "visibility": null,
       "width": null
      }
     },
     "889cd48848f649c482db9b937da6a974": {
      "model_module": "@jupyter-widgets/controls",
      "model_module_version": "1.5.0",
      "model_name": "ProgressStyleModel",
      "state": {
       "_model_module": "@jupyter-widgets/controls",
       "_model_module_version": "1.5.0",
       "_model_name": "ProgressStyleModel",
       "_view_count": null,
       "_view_module": "@jupyter-widgets/base",
       "_view_module_version": "1.2.0",
       "_view_name": "StyleView",
       "bar_color": null,
       "description_width": ""
      }
     },
     "8ac5f071b346428b86a26cb3ec2ec607": {
      "model_module": "@jupyter-widgets/controls",
      "model_module_version": "1.5.0",
      "model_name": "HTMLModel",
      "state": {
       "_dom_classes": [],
       "_model_module": "@jupyter-widgets/controls",
       "_model_module_version": "1.5.0",
       "_model_name": "HTMLModel",
       "_view_count": null,
       "_view_module": "@jupyter-widgets/controls",
       "_view_module_version": "1.5.0",
       "_view_name": "HTMLView",
       "description": "",
       "description_tooltip": null,
       "layout": "IPY_MODEL_bd72dbe7908447aaa0cfe3feeb5e2088",
       "placeholder": "​",
       "style": "IPY_MODEL_4060c2ac0c334b7dabd662517042119a",
       "value": " 1.11k/1.11k [00:00&lt;00:00, 102kB/s]"
      }
     },
     "8b22876c19a3469087f8e43de3cbd374": {
      "model_module": "@jupyter-widgets/controls",
      "model_module_version": "1.5.0",
      "model_name": "DescriptionStyleModel",
      "state": {
       "_model_module": "@jupyter-widgets/controls",
       "_model_module_version": "1.5.0",
       "_model_name": "DescriptionStyleModel",
       "_view_count": null,
       "_view_module": "@jupyter-widgets/base",
       "_view_module_version": "1.2.0",
       "_view_name": "StyleView",
       "description_width": ""
      }
     },
     "8c372f67653e4bc49079d2f18b934a88": {
      "model_module": "@jupyter-widgets/controls",
      "model_module_version": "1.5.0",
      "model_name": "HBoxModel",
      "state": {
       "_dom_classes": [],
       "_model_module": "@jupyter-widgets/controls",
       "_model_module_version": "1.5.0",
       "_model_name": "HBoxModel",
       "_view_count": null,
       "_view_module": "@jupyter-widgets/controls",
       "_view_module_version": "1.5.0",
       "_view_name": "HBoxView",
       "box_style": "",
       "children": [
        "IPY_MODEL_cb5c8e45555a4134b6f8e2c2c2d013ab",
        "IPY_MODEL_aed2f528bab74303a33ea2fc65b515b9",
        "IPY_MODEL_4cd80e2b68134524ac38b47eb20051ca"
       ],
       "layout": "IPY_MODEL_980c90fb0baa4ac2beed3c1b4be732d6"
      }
     },
     "8e69f25d5fd14c1690106cef5a0110fe": {
      "model_module": "@jupyter-widgets/controls",
      "model_module_version": "1.5.0",
      "model_name": "HBoxModel",
      "state": {
       "_dom_classes": [],
       "_model_module": "@jupyter-widgets/controls",
       "_model_module_version": "1.5.0",
       "_model_name": "HBoxModel",
       "_view_count": null,
       "_view_module": "@jupyter-widgets/controls",
       "_view_module_version": "1.5.0",
       "_view_name": "HBoxView",
       "box_style": "",
       "children": [
        "IPY_MODEL_f6401fb9f93f4a04bd773ca7a2caa256",
        "IPY_MODEL_e1a30a062a2141bf870850b2e7a1ebee",
        "IPY_MODEL_8ac5f071b346428b86a26cb3ec2ec607"
       ],
       "layout": "IPY_MODEL_f3eda0e0df174671b5c7d0e61cb9ca77"
      }
     },
     "980c90fb0baa4ac2beed3c1b4be732d6": {
      "model_module": "@jupyter-widgets/base",
      "model_module_version": "1.2.0",
      "model_name": "LayoutModel",
      "state": {
       "_model_module": "@jupyter-widgets/base",
       "_model_module_version": "1.2.0",
       "_model_name": "LayoutModel",
       "_view_count": null,
       "_view_module": "@jupyter-widgets/base",
       "_view_module_version": "1.2.0",
       "_view_name": "LayoutView",
       "align_content": null,
       "align_items": null,
       "align_self": null,
       "border": null,
       "bottom": null,
       "display": null,
       "flex": null,
       "flex_flow": null,
       "grid_area": null,
       "grid_auto_columns": null,
       "grid_auto_flow": null,
       "grid_auto_rows": null,
       "grid_column": null,
       "grid_gap": null,
       "grid_row": null,
       "grid_template_areas": null,
       "grid_template_columns": null,
       "grid_template_rows": null,
       "height": null,
       "justify_content": null,
       "justify_items": null,
       "left": null,
       "margin": null,
       "max_height": null,
       "max_width": null,
       "min_height": null,
       "min_width": null,
       "object_fit": null,
       "object_position": null,
       "order": null,
       "overflow": null,
       "overflow_x": null,
       "overflow_y": null,
       "padding": null,
       "right": null,
       "top": null,
       "visibility": null,
       "width": null
      }
     },
     "9c96e11d4dd84921a3d8e2f777a5736f": {
      "model_module": "@jupyter-widgets/controls",
      "model_module_version": "1.5.0",
      "model_name": "HBoxModel",
      "state": {
       "_dom_classes": [],
       "_model_module": "@jupyter-widgets/controls",
       "_model_module_version": "1.5.0",
       "_model_name": "HBoxModel",
       "_view_count": null,
       "_view_module": "@jupyter-widgets/controls",
       "_view_module_version": "1.5.0",
       "_view_name": "HBoxView",
       "box_style": "",
       "children": [
        "IPY_MODEL_b6474a45ea6842a2bc5f7008e472446b",
        "IPY_MODEL_2d417c83197c49f6a03796e74f918be5",
        "IPY_MODEL_e27a8a8a722844d79ac4632c01bf3517"
       ],
       "layout": "IPY_MODEL_06e9bf99a90a45f7bd2cb704a7593cf1"
      }
     },
     "a3cc99caef124237b875c2f44a0b4469": {
      "model_module": "@jupyter-widgets/controls",
      "model_module_version": "1.5.0",
      "model_name": "DescriptionStyleModel",
      "state": {
       "_model_module": "@jupyter-widgets/controls",
       "_model_module_version": "1.5.0",
       "_model_name": "DescriptionStyleModel",
       "_view_count": null,
       "_view_module": "@jupyter-widgets/base",
       "_view_module_version": "1.2.0",
       "_view_name": "StyleView",
       "description_width": ""
      }
     },
     "aed2f528bab74303a33ea2fc65b515b9": {
      "model_module": "@jupyter-widgets/controls",
      "model_module_version": "1.5.0",
      "model_name": "FloatProgressModel",
      "state": {
       "_dom_classes": [],
       "_model_module": "@jupyter-widgets/controls",
       "_model_module_version": "1.5.0",
       "_model_name": "FloatProgressModel",
       "_view_count": null,
       "_view_module": "@jupyter-widgets/controls",
       "_view_module_version": "1.5.0",
       "_view_name": "ProgressView",
       "bar_style": "success",
       "description": "",
       "description_tooltip": null,
       "layout": "IPY_MODEL_b839992e9d214571a1fc57cdf7261445",
       "max": 213450.0,
       "min": 0.0,
       "orientation": "horizontal",
       "style": "IPY_MODEL_889cd48848f649c482db9b937da6a974",
       "value": 213450.0
      }
     },
     "b6474a45ea6842a2bc5f7008e472446b": {
      "model_module": "@jupyter-widgets/controls",
      "model_module_version": "1.5.0",
      "model_name": "HTMLModel",
      "state": {
       "_dom_classes": [],
       "_model_module": "@jupyter-widgets/controls",
       "_model_module_version": "1.5.0",
       "_model_name": "HTMLModel",
       "_view_count": null,
       "_view_module": "@jupyter-widgets/controls",
       "_view_module_version": "1.5.0",
       "_view_name": "HTMLView",
       "description": "",
       "description_tooltip": null,
       "layout": "IPY_MODEL_b77321ec511649709c7adec1668e5cbf",
       "placeholder": "​",
       "style": "IPY_MODEL_a3cc99caef124237b875c2f44a0b4469",
       "value": "pytorch_model.bin: 100%"
      }
     },
     "b77321ec511649709c7adec1668e5cbf": {
      "model_module": "@jupyter-widgets/base",
      "model_module_version": "1.2.0",
      "model_name": "LayoutModel",
      "state": {
       "_model_module": "@jupyter-widgets/base",
       "_model_module_version": "1.2.0",
       "_model_name": "LayoutModel",
       "_view_count": null,
       "_view_module": "@jupyter-widgets/base",
       "_view_module_version": "1.2.0",
       "_view_name": "LayoutView",
       "align_content": null,
       "align_items": null,
       "align_self": null,
       "border": null,
       "bottom": null,
       "display": null,
       "flex": null,
       "flex_flow": null,
       "grid_area": null,
       "grid_auto_columns": null,
       "grid_auto_flow": null,
       "grid_auto_rows": null,
       "grid_column": null,
       "grid_gap": null,
       "grid_row": null,
       "grid_template_areas": null,
       "grid_template_columns": null,
       "grid_template_rows": null,
       "height": null,
       "justify_content": null,
       "justify_items": null,
       "left": null,
       "margin": null,
       "max_height": null,
       "max_width": null,
       "min_height": null,
       "min_width": null,
       "object_fit": null,
       "object_position": null,
       "order": null,
       "overflow": null,
       "overflow_x": null,
       "overflow_y": null,
       "padding": null,
       "right": null,
       "top": null,
       "visibility": null,
       "width": null
      }
     },
     "b839992e9d214571a1fc57cdf7261445": {
      "model_module": "@jupyter-widgets/base",
      "model_module_version": "1.2.0",
      "model_name": "LayoutModel",
      "state": {
       "_model_module": "@jupyter-widgets/base",
       "_model_module_version": "1.2.0",
       "_model_name": "LayoutModel",
       "_view_count": null,
       "_view_module": "@jupyter-widgets/base",
       "_view_module_version": "1.2.0",
       "_view_name": "LayoutView",
       "align_content": null,
       "align_items": null,
       "align_self": null,
       "border": null,
       "bottom": null,
       "display": null,
       "flex": null,
       "flex_flow": null,
       "grid_area": null,
       "grid_auto_columns": null,
       "grid_auto_flow": null,
       "grid_auto_rows": null,
       "grid_column": null,
       "grid_gap": null,
       "grid_row": null,
       "grid_template_areas": null,
       "grid_template_columns": null,
       "grid_template_rows": null,
       "height": null,
       "justify_content": null,
       "justify_items": null,
       "left": null,
       "margin": null,
       "max_height": null,
       "max_width": null,
       "min_height": null,
       "min_width": null,
       "object_fit": null,
       "object_position": null,
       "order": null,
       "overflow": null,
       "overflow_x": null,
       "overflow_y": null,
       "padding": null,
       "right": null,
       "top": null,
       "visibility": null,
       "width": null
      }
     },
     "bcb87841160a4a7d81dc2c84c4d41376": {
      "model_module": "@jupyter-widgets/base",
      "model_module_version": "1.2.0",
      "model_name": "LayoutModel",
      "state": {
       "_model_module": "@jupyter-widgets/base",
       "_model_module_version": "1.2.0",
       "_model_name": "LayoutModel",
       "_view_count": null,
       "_view_module": "@jupyter-widgets/base",
       "_view_module_version": "1.2.0",
       "_view_name": "LayoutView",
       "align_content": null,
       "align_items": null,
       "align_self": null,
       "border": null,
       "bottom": null,
       "display": null,
       "flex": null,
       "flex_flow": null,
       "grid_area": null,
       "grid_auto_columns": null,
       "grid_auto_flow": null,
       "grid_auto_rows": null,
       "grid_column": null,
       "grid_gap": null,
       "grid_row": null,
       "grid_template_areas": null,
       "grid_template_columns": null,
       "grid_template_rows": null,
       "height": null,
       "justify_content": null,
       "justify_items": null,
       "left": null,
       "margin": null,
       "max_height": null,
       "max_width": null,
       "min_height": null,
       "min_width": null,
       "object_fit": null,
       "object_position": null,
       "order": null,
       "overflow": null,
       "overflow_x": null,
       "overflow_y": null,
       "padding": null,
       "right": null,
       "top": null,
       "visibility": null,
       "width": null
      }
     },
     "bd72dbe7908447aaa0cfe3feeb5e2088": {
      "model_module": "@jupyter-widgets/base",
      "model_module_version": "1.2.0",
      "model_name": "LayoutModel",
      "state": {
       "_model_module": "@jupyter-widgets/base",
       "_model_module_version": "1.2.0",
       "_model_name": "LayoutModel",
       "_view_count": null,
       "_view_module": "@jupyter-widgets/base",
       "_view_module_version": "1.2.0",
       "_view_name": "LayoutView",
       "align_content": null,
       "align_items": null,
       "align_self": null,
       "border": null,
       "bottom": null,
       "display": null,
       "flex": null,
       "flex_flow": null,
       "grid_area": null,
       "grid_auto_columns": null,
       "grid_auto_flow": null,
       "grid_auto_rows": null,
       "grid_column": null,
       "grid_gap": null,
       "grid_row": null,
       "grid_template_areas": null,
       "grid_template_columns": null,
       "grid_template_rows": null,
       "height": null,
       "justify_content": null,
       "justify_items": null,
       "left": null,
       "margin": null,
       "max_height": null,
       "max_width": null,
       "min_height": null,
       "min_width": null,
       "object_fit": null,
       "object_position": null,
       "order": null,
       "overflow": null,
       "overflow_x": null,
       "overflow_y": null,
       "padding": null,
       "right": null,
       "top": null,
       "visibility": null,
       "width": null
      }
     },
     "cb5c8e45555a4134b6f8e2c2c2d013ab": {
      "model_module": "@jupyter-widgets/controls",
      "model_module_version": "1.5.0",
      "model_name": "HTMLModel",
      "state": {
       "_dom_classes": [],
       "_model_module": "@jupyter-widgets/controls",
       "_model_module_version": "1.5.0",
       "_model_name": "HTMLModel",
       "_view_count": null,
       "_view_module": "@jupyter-widgets/controls",
       "_view_module_version": "1.5.0",
       "_view_name": "HTMLView",
       "description": "",
       "description_tooltip": null,
       "layout": "IPY_MODEL_bcb87841160a4a7d81dc2c84c4d41376",
       "placeholder": "​",
       "style": "IPY_MODEL_5d9d6b458fc146e892621a6778027b2b",
       "value": "vocab.txt: 100%"
      }
     },
     "db4593523af04889b644d24595491136": {
      "model_module": "@jupyter-widgets/base",
      "model_module_version": "1.2.0",
      "model_name": "LayoutModel",
      "state": {
       "_model_module": "@jupyter-widgets/base",
       "_model_module_version": "1.2.0",
       "_model_name": "LayoutModel",
       "_view_count": null,
       "_view_module": "@jupyter-widgets/base",
       "_view_module_version": "1.2.0",
       "_view_name": "LayoutView",
       "align_content": null,
       "align_items": null,
       "align_self": null,
       "border": null,
       "bottom": null,
       "display": null,
       "flex": null,
       "flex_flow": null,
       "grid_area": null,
       "grid_auto_columns": null,
       "grid_auto_flow": null,
       "grid_auto_rows": null,
       "grid_column": null,
       "grid_gap": null,
       "grid_row": null,
       "grid_template_areas": null,
       "grid_template_columns": null,
       "grid_template_rows": null,
       "height": null,
       "justify_content": null,
       "justify_items": null,
       "left": null,
       "margin": null,
       "max_height": null,
       "max_width": null,
       "min_height": null,
       "min_width": null,
       "object_fit": null,
       "object_position": null,
       "order": null,
       "overflow": null,
       "overflow_x": null,
       "overflow_y": null,
       "padding": null,
       "right": null,
       "top": null,
       "visibility": null,
       "width": null
      }
     },
     "e1a30a062a2141bf870850b2e7a1ebee": {
      "model_module": "@jupyter-widgets/controls",
      "model_module_version": "1.5.0",
      "model_name": "FloatProgressModel",
      "state": {
       "_dom_classes": [],
       "_model_module": "@jupyter-widgets/controls",
       "_model_module_version": "1.5.0",
       "_model_name": "FloatProgressModel",
       "_view_count": null,
       "_view_module": "@jupyter-widgets/controls",
       "_view_module_version": "1.5.0",
       "_view_name": "ProgressView",
       "bar_style": "success",
       "description": "",
       "description_tooltip": null,
       "layout": "IPY_MODEL_7dcd7ce551a14aa9b9e150c9cb553476",
       "max": 1110.0,
       "min": 0.0,
       "orientation": "horizontal",
       "style": "IPY_MODEL_4409cd43e67f4d08a6c0bb298b537e81",
       "value": 1110.0
      }
     },
     "e27a8a8a722844d79ac4632c01bf3517": {
      "model_module": "@jupyter-widgets/controls",
      "model_module_version": "1.5.0",
      "model_name": "HTMLModel",
      "state": {
       "_dom_classes": [],
       "_model_module": "@jupyter-widgets/controls",
       "_model_module_version": "1.5.0",
       "_model_name": "HTMLModel",
       "_view_count": null,
       "_view_module": "@jupyter-widgets/controls",
       "_view_module_version": "1.5.0",
       "_view_name": "HTMLView",
       "description": "",
       "description_tooltip": null,
       "layout": "IPY_MODEL_07ce2ce139e047478bf2c87d3a96a0c2",
       "placeholder": "​",
       "style": "IPY_MODEL_61d0d98bab9d4eb6b55d0f6eb1fb72bf",
       "value": " 436M/436M [00:01&lt;00:00, 362MB/s]"
      }
     },
     "f3eda0e0df174671b5c7d0e61cb9ca77": {
      "model_module": "@jupyter-widgets/base",
      "model_module_version": "1.2.0",
      "model_name": "LayoutModel",
      "state": {
       "_model_module": "@jupyter-widgets/base",
       "_model_module_version": "1.2.0",
       "_model_name": "LayoutModel",
       "_view_count": null,
       "_view_module": "@jupyter-widgets/base",
       "_view_module_version": "1.2.0",
       "_view_name": "LayoutView",
       "align_content": null,
       "align_items": null,
       "align_self": null,
       "border": null,
       "bottom": null,
       "display": null,
       "flex": null,
       "flex_flow": null,
       "grid_area": null,
       "grid_auto_columns": null,
       "grid_auto_flow": null,
       "grid_auto_rows": null,
       "grid_column": null,
       "grid_gap": null,
       "grid_row": null,
       "grid_template_areas": null,
       "grid_template_columns": null,
       "grid_template_rows": null,
       "height": null,
       "justify_content": null,
       "justify_items": null,
       "left": null,
       "margin": null,
       "max_height": null,
       "max_width": null,
       "min_height": null,
       "min_width": null,
       "object_fit": null,
       "object_position": null,
       "order": null,
       "overflow": null,
       "overflow_x": null,
       "overflow_y": null,
       "padding": null,
       "right": null,
       "top": null,
       "visibility": null,
       "width": null
      }
     },
     "f6401fb9f93f4a04bd773ca7a2caa256": {
      "model_module": "@jupyter-widgets/controls",
      "model_module_version": "1.5.0",
      "model_name": "HTMLModel",
      "state": {
       "_dom_classes": [],
       "_model_module": "@jupyter-widgets/controls",
       "_model_module_version": "1.5.0",
       "_model_name": "HTMLModel",
       "_view_count": null,
       "_view_module": "@jupyter-widgets/controls",
       "_view_module_version": "1.5.0",
       "_view_name": "HTMLView",
       "description": "",
       "description_tooltip": null,
       "layout": "IPY_MODEL_19be61033f394f689b1fe0cc67eb76c1",
       "placeholder": "​",
       "style": "IPY_MODEL_8b22876c19a3469087f8e43de3cbd374",
       "value": "config.json: 100%"
      }
     }
    },
    "version_major": 2,
    "version_minor": 0
   }
  }
 },
 "nbformat": 4,
 "nbformat_minor": 5
}
