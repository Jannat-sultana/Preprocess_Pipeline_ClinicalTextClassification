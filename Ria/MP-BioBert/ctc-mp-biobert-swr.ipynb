{
 "cells": [
  {
   "cell_type": "code",
   "execution_count": 1,
   "id": "c73543fb",
   "metadata": {
    "_cell_guid": "b1076dfc-b9ad-4769-8c92-a6c4dae69d19",
    "_uuid": "8f2839f25d086af736a60e9eeb907d3b93b6e0e5",
    "execution": {
     "iopub.execute_input": "2024-05-11T07:20:45.840754Z",
     "iopub.status.busy": "2024-05-11T07:20:45.840416Z",
     "iopub.status.idle": "2024-05-11T07:20:55.029957Z",
     "shell.execute_reply": "2024-05-11T07:20:55.029179Z"
    },
    "papermill": {
     "duration": 9.212944,
     "end_time": "2024-05-11T07:20:55.032394",
     "exception": false,
     "start_time": "2024-05-11T07:20:45.819450",
     "status": "completed"
    },
    "tags": []
   },
   "outputs": [],
   "source": [
    "import torch\n",
    "from torch import nn\n",
    "from torch.utils.data import DataLoader, Dataset\n",
    "from transformers import BertTokenizer, BertModel, AdamW, get_linear_schedule_with_warmup\n",
    "from sklearn.model_selection import train_test_split\n",
    "from sklearn.metrics import accuracy_score, classification_report\n",
    "from sklearn.metrics import accuracy_score, recall_score, precision_score, f1_score, roc_auc_score\n",
    "import pandas as pd\n",
    "from collections import deque\n",
    "import matplotlib.pyplot as plt\n",
    "import numpy as np\n",
    "from datasets import load_dataset\n",
    "import torch.optim as optim\n",
    "import torch.nn.functional as F"
   ]
  },
  {
   "cell_type": "code",
   "execution_count": 2,
   "id": "4ac74fc3",
   "metadata": {
    "execution": {
     "iopub.execute_input": "2024-05-11T07:20:55.072913Z",
     "iopub.status.busy": "2024-05-11T07:20:55.072391Z",
     "iopub.status.idle": "2024-05-11T07:20:57.644915Z",
     "shell.execute_reply": "2024-05-11T07:20:57.644109Z"
    },
    "papermill": {
     "duration": 2.595321,
     "end_time": "2024-05-11T07:20:57.647262",
     "exception": false,
     "start_time": "2024-05-11T07:20:55.051941",
     "status": "completed"
    },
    "tags": []
   },
   "outputs": [],
   "source": [
    "# Load Train, Validation, Test Dataset\n",
    "train_df = pd.read_csv('/kaggle/input/mp-train/MP_train.csv')\n",
    "val_df = pd.read_csv('/kaggle/input/mp-val/MP_val.csv')\n",
    "test_df = pd.read_csv('/kaggle/input/mp-test/MP_test.csv')"
   ]
  },
  {
   "cell_type": "code",
   "execution_count": 3,
   "id": "df296423",
   "metadata": {
    "execution": {
     "iopub.execute_input": "2024-05-11T07:20:57.687455Z",
     "iopub.status.busy": "2024-05-11T07:20:57.687109Z",
     "iopub.status.idle": "2024-05-11T07:20:57.704869Z",
     "shell.execute_reply": "2024-05-11T07:20:57.704013Z"
    },
    "papermill": {
     "duration": 0.039956,
     "end_time": "2024-05-11T07:20:57.706829",
     "exception": false,
     "start_time": "2024-05-11T07:20:57.666873",
     "status": "completed"
    },
    "tags": []
   },
   "outputs": [
    {
     "data": {
      "text/html": [
       "<div>\n",
       "<style scoped>\n",
       "    .dataframe tbody tr th:only-of-type {\n",
       "        vertical-align: middle;\n",
       "    }\n",
       "\n",
       "    .dataframe tbody tr th {\n",
       "        vertical-align: top;\n",
       "    }\n",
       "\n",
       "    .dataframe thead th {\n",
       "        text-align: right;\n",
       "    }\n",
       "</style>\n",
       "<table border=\"1\" class=\"dataframe\">\n",
       "  <thead>\n",
       "    <tr style=\"text-align: right;\">\n",
       "      <th></th>\n",
       "      <th>id</th>\n",
       "      <th>text</th>\n",
       "      <th>hospital_expire_flag</th>\n",
       "    </tr>\n",
       "  </thead>\n",
       "  <tbody>\n",
       "    <tr>\n",
       "      <th>0</th>\n",
       "      <td>107384</td>\n",
       "      <td>CHIEF COMPLAINT: AMS, concern for toxic alcoho...</td>\n",
       "      <td>0</td>\n",
       "    </tr>\n",
       "    <tr>\n",
       "      <th>1</th>\n",
       "      <td>101061</td>\n",
       "      <td>CHIEF COMPLAINT: abdominal pain\\n\\nPRESENT ILL...</td>\n",
       "      <td>0</td>\n",
       "    </tr>\n",
       "    <tr>\n",
       "      <th>2</th>\n",
       "      <td>127180</td>\n",
       "      <td>CHIEF COMPLAINT: Bilateral Sub Dural Hematoma\\...</td>\n",
       "      <td>0</td>\n",
       "    </tr>\n",
       "    <tr>\n",
       "      <th>3</th>\n",
       "      <td>168339</td>\n",
       "      <td>CHIEF COMPLAINT: Intracranial bleed\\n\\nPRESENT...</td>\n",
       "      <td>0</td>\n",
       "    </tr>\n",
       "    <tr>\n",
       "      <th>4</th>\n",
       "      <td>154044</td>\n",
       "      <td>CHIEF COMPLAINT: ischemic left foot\\n\\nPRESENT...</td>\n",
       "      <td>0</td>\n",
       "    </tr>\n",
       "  </tbody>\n",
       "</table>\n",
       "</div>"
      ],
      "text/plain": [
       "       id                                               text  \\\n",
       "0  107384  CHIEF COMPLAINT: AMS, concern for toxic alcoho...   \n",
       "1  101061  CHIEF COMPLAINT: abdominal pain\\n\\nPRESENT ILL...   \n",
       "2  127180  CHIEF COMPLAINT: Bilateral Sub Dural Hematoma\\...   \n",
       "3  168339  CHIEF COMPLAINT: Intracranial bleed\\n\\nPRESENT...   \n",
       "4  154044  CHIEF COMPLAINT: ischemic left foot\\n\\nPRESENT...   \n",
       "\n",
       "   hospital_expire_flag  \n",
       "0                     0  \n",
       "1                     0  \n",
       "2                     0  \n",
       "3                     0  \n",
       "4                     0  "
      ]
     },
     "execution_count": 3,
     "metadata": {},
     "output_type": "execute_result"
    }
   ],
   "source": [
    "train_df.head()"
   ]
  },
  {
   "cell_type": "code",
   "execution_count": 4,
   "id": "9e24e9f7",
   "metadata": {
    "execution": {
     "iopub.execute_input": "2024-05-11T07:20:57.747654Z",
     "iopub.status.busy": "2024-05-11T07:20:57.747023Z",
     "iopub.status.idle": "2024-05-11T07:20:57.755571Z",
     "shell.execute_reply": "2024-05-11T07:20:57.754769Z"
    },
    "papermill": {
     "duration": 0.030485,
     "end_time": "2024-05-11T07:20:57.757569",
     "exception": false,
     "start_time": "2024-05-11T07:20:57.727084",
     "status": "completed"
    },
    "tags": []
   },
   "outputs": [
    {
     "data": {
      "text/html": [
       "<div>\n",
       "<style scoped>\n",
       "    .dataframe tbody tr th:only-of-type {\n",
       "        vertical-align: middle;\n",
       "    }\n",
       "\n",
       "    .dataframe tbody tr th {\n",
       "        vertical-align: top;\n",
       "    }\n",
       "\n",
       "    .dataframe thead th {\n",
       "        text-align: right;\n",
       "    }\n",
       "</style>\n",
       "<table border=\"1\" class=\"dataframe\">\n",
       "  <thead>\n",
       "    <tr style=\"text-align: right;\">\n",
       "      <th></th>\n",
       "      <th>id</th>\n",
       "      <th>text</th>\n",
       "      <th>hospital_expire_flag</th>\n",
       "    </tr>\n",
       "  </thead>\n",
       "  <tbody>\n",
       "    <tr>\n",
       "      <th>0</th>\n",
       "      <td>176763</td>\n",
       "      <td>CHIEF COMPLAINT: # Lethargy # Confusion # Hypo...</td>\n",
       "      <td>0</td>\n",
       "    </tr>\n",
       "    <tr>\n",
       "      <th>1</th>\n",
       "      <td>173211</td>\n",
       "      <td>CHIEF COMPLAINT: Dyspnea, LE edema\\n\\nPRESENT ...</td>\n",
       "      <td>0</td>\n",
       "    </tr>\n",
       "    <tr>\n",
       "      <th>2</th>\n",
       "      <td>116333</td>\n",
       "      <td>CHIEF COMPLAINT: upper GI bleed\\n\\nPRESENT ILL...</td>\n",
       "      <td>1</td>\n",
       "    </tr>\n",
       "    <tr>\n",
       "      <th>3</th>\n",
       "      <td>161102</td>\n",
       "      <td>CHIEF COMPLAINT: increased lethargy\\n\\nPRESENT...</td>\n",
       "      <td>0</td>\n",
       "    </tr>\n",
       "    <tr>\n",
       "      <th>4</th>\n",
       "      <td>116799</td>\n",
       "      <td>CHIEF COMPLAINT: s/p 18 ft fall\\n\\nPRESENT ILL...</td>\n",
       "      <td>0</td>\n",
       "    </tr>\n",
       "  </tbody>\n",
       "</table>\n",
       "</div>"
      ],
      "text/plain": [
       "       id                                               text  \\\n",
       "0  176763  CHIEF COMPLAINT: # Lethargy # Confusion # Hypo...   \n",
       "1  173211  CHIEF COMPLAINT: Dyspnea, LE edema\\n\\nPRESENT ...   \n",
       "2  116333  CHIEF COMPLAINT: upper GI bleed\\n\\nPRESENT ILL...   \n",
       "3  161102  CHIEF COMPLAINT: increased lethargy\\n\\nPRESENT...   \n",
       "4  116799  CHIEF COMPLAINT: s/p 18 ft fall\\n\\nPRESENT ILL...   \n",
       "\n",
       "   hospital_expire_flag  \n",
       "0                     0  \n",
       "1                     0  \n",
       "2                     1  \n",
       "3                     0  \n",
       "4                     0  "
      ]
     },
     "execution_count": 4,
     "metadata": {},
     "output_type": "execute_result"
    }
   ],
   "source": [
    "val_df.head()"
   ]
  },
  {
   "cell_type": "code",
   "execution_count": 5,
   "id": "8da80cc3",
   "metadata": {
    "execution": {
     "iopub.execute_input": "2024-05-11T07:20:57.797748Z",
     "iopub.status.busy": "2024-05-11T07:20:57.797261Z",
     "iopub.status.idle": "2024-05-11T07:20:57.806009Z",
     "shell.execute_reply": "2024-05-11T07:20:57.805028Z"
    },
    "papermill": {
     "duration": 0.030901,
     "end_time": "2024-05-11T07:20:57.808000",
     "exception": false,
     "start_time": "2024-05-11T07:20:57.777099",
     "status": "completed"
    },
    "tags": []
   },
   "outputs": [
    {
     "data": {
      "text/html": [
       "<div>\n",
       "<style scoped>\n",
       "    .dataframe tbody tr th:only-of-type {\n",
       "        vertical-align: middle;\n",
       "    }\n",
       "\n",
       "    .dataframe tbody tr th {\n",
       "        vertical-align: top;\n",
       "    }\n",
       "\n",
       "    .dataframe thead th {\n",
       "        text-align: right;\n",
       "    }\n",
       "</style>\n",
       "<table border=\"1\" class=\"dataframe\">\n",
       "  <thead>\n",
       "    <tr style=\"text-align: right;\">\n",
       "      <th></th>\n",
       "      <th>id</th>\n",
       "      <th>text</th>\n",
       "      <th>hospital_expire_flag</th>\n",
       "    </tr>\n",
       "  </thead>\n",
       "  <tbody>\n",
       "    <tr>\n",
       "      <th>0</th>\n",
       "      <td>100058</td>\n",
       "      <td>CHIEF COMPLAINT: \\n\\nPRESENT ILLNESS: The pati...</td>\n",
       "      <td>0</td>\n",
       "    </tr>\n",
       "    <tr>\n",
       "      <th>1</th>\n",
       "      <td>124871</td>\n",
       "      <td>CHIEF COMPLAINT: shortness of breath\\n\\nPRESEN...</td>\n",
       "      <td>0</td>\n",
       "    </tr>\n",
       "    <tr>\n",
       "      <th>2</th>\n",
       "      <td>109159</td>\n",
       "      <td>CHIEF COMPLAINT: s/p mechanical fall\\n\\nPRESEN...</td>\n",
       "      <td>0</td>\n",
       "    </tr>\n",
       "    <tr>\n",
       "      <th>3</th>\n",
       "      <td>159161</td>\n",
       "      <td>CHIEF COMPLAINT: nausea and vomiting\\n\\nPRESEN...</td>\n",
       "      <td>0</td>\n",
       "    </tr>\n",
       "    <tr>\n",
       "      <th>4</th>\n",
       "      <td>109863</td>\n",
       "      <td>CHIEF COMPLAINT: \\n\\nPRESENT ILLNESS: The pati...</td>\n",
       "      <td>1</td>\n",
       "    </tr>\n",
       "  </tbody>\n",
       "</table>\n",
       "</div>"
      ],
      "text/plain": [
       "       id                                               text  \\\n",
       "0  100058  CHIEF COMPLAINT: \\n\\nPRESENT ILLNESS: The pati...   \n",
       "1  124871  CHIEF COMPLAINT: shortness of breath\\n\\nPRESEN...   \n",
       "2  109159  CHIEF COMPLAINT: s/p mechanical fall\\n\\nPRESEN...   \n",
       "3  159161  CHIEF COMPLAINT: nausea and vomiting\\n\\nPRESEN...   \n",
       "4  109863  CHIEF COMPLAINT: \\n\\nPRESENT ILLNESS: The pati...   \n",
       "\n",
       "   hospital_expire_flag  \n",
       "0                     0  \n",
       "1                     0  \n",
       "2                     0  \n",
       "3                     0  \n",
       "4                     1  "
      ]
     },
     "execution_count": 5,
     "metadata": {},
     "output_type": "execute_result"
    }
   ],
   "source": [
    "test_df.head()"
   ]
  },
  {
   "cell_type": "code",
   "execution_count": 6,
   "id": "235fc06d",
   "metadata": {
    "execution": {
     "iopub.execute_input": "2024-05-11T07:20:57.848643Z",
     "iopub.status.busy": "2024-05-11T07:20:57.848157Z",
     "iopub.status.idle": "2024-05-11T07:20:57.857203Z",
     "shell.execute_reply": "2024-05-11T07:20:57.856361Z"
    },
    "papermill": {
     "duration": 0.031482,
     "end_time": "2024-05-11T07:20:57.859313",
     "exception": false,
     "start_time": "2024-05-11T07:20:57.827831",
     "status": "completed"
    },
    "tags": []
   },
   "outputs": [
    {
     "data": {
      "text/plain": [
       "2"
      ]
     },
     "execution_count": 6,
     "metadata": {},
     "output_type": "execute_result"
    }
   ],
   "source": [
    "train_df['hospital_expire_flag'].nunique()"
   ]
  },
  {
   "cell_type": "code",
   "execution_count": 7,
   "id": "b7ecdf98",
   "metadata": {
    "execution": {
     "iopub.execute_input": "2024-05-11T07:20:57.901207Z",
     "iopub.status.busy": "2024-05-11T07:20:57.900485Z",
     "iopub.status.idle": "2024-05-11T07:20:57.906341Z",
     "shell.execute_reply": "2024-05-11T07:20:57.905472Z"
    },
    "papermill": {
     "duration": 0.028383,
     "end_time": "2024-05-11T07:20:57.908252",
     "exception": false,
     "start_time": "2024-05-11T07:20:57.879869",
     "status": "completed"
    },
    "tags": []
   },
   "outputs": [
    {
     "data": {
      "text/plain": [
       "2"
      ]
     },
     "execution_count": 7,
     "metadata": {},
     "output_type": "execute_result"
    }
   ],
   "source": [
    "val_df['hospital_expire_flag'].nunique()"
   ]
  },
  {
   "cell_type": "code",
   "execution_count": 8,
   "id": "c119ca9b",
   "metadata": {
    "execution": {
     "iopub.execute_input": "2024-05-11T07:20:57.949091Z",
     "iopub.status.busy": "2024-05-11T07:20:57.948526Z",
     "iopub.status.idle": "2024-05-11T07:20:57.954318Z",
     "shell.execute_reply": "2024-05-11T07:20:57.953491Z"
    },
    "papermill": {
     "duration": 0.028202,
     "end_time": "2024-05-11T07:20:57.956220",
     "exception": false,
     "start_time": "2024-05-11T07:20:57.928018",
     "status": "completed"
    },
    "tags": []
   },
   "outputs": [
    {
     "data": {
      "text/plain": [
       "2"
      ]
     },
     "execution_count": 8,
     "metadata": {},
     "output_type": "execute_result"
    }
   ],
   "source": [
    "test_df['hospital_expire_flag'].nunique()"
   ]
  },
  {
   "cell_type": "code",
   "execution_count": 9,
   "id": "2ca548d1",
   "metadata": {
    "execution": {
     "iopub.execute_input": "2024-05-11T07:20:57.998819Z",
     "iopub.status.busy": "2024-05-11T07:20:57.998165Z",
     "iopub.status.idle": "2024-05-11T07:20:58.010650Z",
     "shell.execute_reply": "2024-05-11T07:20:58.009927Z"
    },
    "papermill": {
     "duration": 0.035951,
     "end_time": "2024-05-11T07:20:58.012521",
     "exception": false,
     "start_time": "2024-05-11T07:20:57.976570",
     "status": "completed"
    },
    "tags": []
   },
   "outputs": [],
   "source": [
    "train_df.drop(columns=['id'], inplace=True)\n",
    "val_df.drop(columns=['id'], inplace=True)\n",
    "test_df.drop(columns=['id'], inplace=True)"
   ]
  },
  {
   "cell_type": "code",
   "execution_count": 10,
   "id": "752fbf76",
   "metadata": {
    "execution": {
     "iopub.execute_input": "2024-05-11T07:20:58.053552Z",
     "iopub.status.busy": "2024-05-11T07:20:58.053293Z",
     "iopub.status.idle": "2024-05-11T07:20:58.061681Z",
     "shell.execute_reply": "2024-05-11T07:20:58.060843Z"
    },
    "papermill": {
     "duration": 0.031218,
     "end_time": "2024-05-11T07:20:58.063604",
     "exception": false,
     "start_time": "2024-05-11T07:20:58.032386",
     "status": "completed"
    },
    "tags": []
   },
   "outputs": [
    {
     "data": {
      "text/html": [
       "<div>\n",
       "<style scoped>\n",
       "    .dataframe tbody tr th:only-of-type {\n",
       "        vertical-align: middle;\n",
       "    }\n",
       "\n",
       "    .dataframe tbody tr th {\n",
       "        vertical-align: top;\n",
       "    }\n",
       "\n",
       "    .dataframe thead th {\n",
       "        text-align: right;\n",
       "    }\n",
       "</style>\n",
       "<table border=\"1\" class=\"dataframe\">\n",
       "  <thead>\n",
       "    <tr style=\"text-align: right;\">\n",
       "      <th></th>\n",
       "      <th>text</th>\n",
       "      <th>hospital_expire_flag</th>\n",
       "    </tr>\n",
       "  </thead>\n",
       "  <tbody>\n",
       "    <tr>\n",
       "      <th>0</th>\n",
       "      <td>CHIEF COMPLAINT: AMS, concern for toxic alcoho...</td>\n",
       "      <td>0</td>\n",
       "    </tr>\n",
       "    <tr>\n",
       "      <th>1</th>\n",
       "      <td>CHIEF COMPLAINT: abdominal pain\\n\\nPRESENT ILL...</td>\n",
       "      <td>0</td>\n",
       "    </tr>\n",
       "    <tr>\n",
       "      <th>2</th>\n",
       "      <td>CHIEF COMPLAINT: Bilateral Sub Dural Hematoma\\...</td>\n",
       "      <td>0</td>\n",
       "    </tr>\n",
       "    <tr>\n",
       "      <th>3</th>\n",
       "      <td>CHIEF COMPLAINT: Intracranial bleed\\n\\nPRESENT...</td>\n",
       "      <td>0</td>\n",
       "    </tr>\n",
       "    <tr>\n",
       "      <th>4</th>\n",
       "      <td>CHIEF COMPLAINT: ischemic left foot\\n\\nPRESENT...</td>\n",
       "      <td>0</td>\n",
       "    </tr>\n",
       "  </tbody>\n",
       "</table>\n",
       "</div>"
      ],
      "text/plain": [
       "                                                text  hospital_expire_flag\n",
       "0  CHIEF COMPLAINT: AMS, concern for toxic alcoho...                     0\n",
       "1  CHIEF COMPLAINT: abdominal pain\\n\\nPRESENT ILL...                     0\n",
       "2  CHIEF COMPLAINT: Bilateral Sub Dural Hematoma\\...                     0\n",
       "3  CHIEF COMPLAINT: Intracranial bleed\\n\\nPRESENT...                     0\n",
       "4  CHIEF COMPLAINT: ischemic left foot\\n\\nPRESENT...                     0"
      ]
     },
     "execution_count": 10,
     "metadata": {},
     "output_type": "execute_result"
    }
   ],
   "source": [
    "train_df.head()"
   ]
  },
  {
   "cell_type": "code",
   "execution_count": 11,
   "id": "f1ae7dfa",
   "metadata": {
    "execution": {
     "iopub.execute_input": "2024-05-11T07:20:58.105177Z",
     "iopub.status.busy": "2024-05-11T07:20:58.104867Z",
     "iopub.status.idle": "2024-05-11T07:20:58.113119Z",
     "shell.execute_reply": "2024-05-11T07:20:58.112257Z"
    },
    "papermill": {
     "duration": 0.031225,
     "end_time": "2024-05-11T07:20:58.115000",
     "exception": false,
     "start_time": "2024-05-11T07:20:58.083775",
     "status": "completed"
    },
    "tags": []
   },
   "outputs": [
    {
     "data": {
      "text/html": [
       "<div>\n",
       "<style scoped>\n",
       "    .dataframe tbody tr th:only-of-type {\n",
       "        vertical-align: middle;\n",
       "    }\n",
       "\n",
       "    .dataframe tbody tr th {\n",
       "        vertical-align: top;\n",
       "    }\n",
       "\n",
       "    .dataframe thead th {\n",
       "        text-align: right;\n",
       "    }\n",
       "</style>\n",
       "<table border=\"1\" class=\"dataframe\">\n",
       "  <thead>\n",
       "    <tr style=\"text-align: right;\">\n",
       "      <th></th>\n",
       "      <th>text</th>\n",
       "      <th>hospital_expire_flag</th>\n",
       "    </tr>\n",
       "  </thead>\n",
       "  <tbody>\n",
       "    <tr>\n",
       "      <th>0</th>\n",
       "      <td>CHIEF COMPLAINT: \\n\\nPRESENT ILLNESS: The pati...</td>\n",
       "      <td>0</td>\n",
       "    </tr>\n",
       "    <tr>\n",
       "      <th>1</th>\n",
       "      <td>CHIEF COMPLAINT: shortness of breath\\n\\nPRESEN...</td>\n",
       "      <td>0</td>\n",
       "    </tr>\n",
       "    <tr>\n",
       "      <th>2</th>\n",
       "      <td>CHIEF COMPLAINT: s/p mechanical fall\\n\\nPRESEN...</td>\n",
       "      <td>0</td>\n",
       "    </tr>\n",
       "    <tr>\n",
       "      <th>3</th>\n",
       "      <td>CHIEF COMPLAINT: nausea and vomiting\\n\\nPRESEN...</td>\n",
       "      <td>0</td>\n",
       "    </tr>\n",
       "    <tr>\n",
       "      <th>4</th>\n",
       "      <td>CHIEF COMPLAINT: \\n\\nPRESENT ILLNESS: The pati...</td>\n",
       "      <td>1</td>\n",
       "    </tr>\n",
       "  </tbody>\n",
       "</table>\n",
       "</div>"
      ],
      "text/plain": [
       "                                                text  hospital_expire_flag\n",
       "0  CHIEF COMPLAINT: \\n\\nPRESENT ILLNESS: The pati...                     0\n",
       "1  CHIEF COMPLAINT: shortness of breath\\n\\nPRESEN...                     0\n",
       "2  CHIEF COMPLAINT: s/p mechanical fall\\n\\nPRESEN...                     0\n",
       "3  CHIEF COMPLAINT: nausea and vomiting\\n\\nPRESEN...                     0\n",
       "4  CHIEF COMPLAINT: \\n\\nPRESENT ILLNESS: The pati...                     1"
      ]
     },
     "execution_count": 11,
     "metadata": {},
     "output_type": "execute_result"
    }
   ],
   "source": [
    "test_df.head()"
   ]
  },
  {
   "cell_type": "code",
   "execution_count": 12,
   "id": "53ec849d",
   "metadata": {
    "execution": {
     "iopub.execute_input": "2024-05-11T07:20:58.157057Z",
     "iopub.status.busy": "2024-05-11T07:20:58.156523Z",
     "iopub.status.idle": "2024-05-11T07:20:58.161898Z",
     "shell.execute_reply": "2024-05-11T07:20:58.161111Z"
    },
    "papermill": {
     "duration": 0.028415,
     "end_time": "2024-05-11T07:20:58.163716",
     "exception": false,
     "start_time": "2024-05-11T07:20:58.135301",
     "status": "completed"
    },
    "tags": []
   },
   "outputs": [
    {
     "data": {
      "text/plain": [
       "(33954, 2)"
      ]
     },
     "execution_count": 12,
     "metadata": {},
     "output_type": "execute_result"
    }
   ],
   "source": [
    "train_df.shape"
   ]
  },
  {
   "cell_type": "code",
   "execution_count": 13,
   "id": "14169abc",
   "metadata": {
    "execution": {
     "iopub.execute_input": "2024-05-11T07:20:58.206127Z",
     "iopub.status.busy": "2024-05-11T07:20:58.205877Z",
     "iopub.status.idle": "2024-05-11T07:20:58.211175Z",
     "shell.execute_reply": "2024-05-11T07:20:58.210379Z"
    },
    "papermill": {
     "duration": 0.028902,
     "end_time": "2024-05-11T07:20:58.212961",
     "exception": false,
     "start_time": "2024-05-11T07:20:58.184059",
     "status": "completed"
    },
    "tags": []
   },
   "outputs": [
    {
     "data": {
      "text/plain": [
       "(4908, 2)"
      ]
     },
     "execution_count": 13,
     "metadata": {},
     "output_type": "execute_result"
    }
   ],
   "source": [
    "val_df.shape"
   ]
  },
  {
   "cell_type": "code",
   "execution_count": 14,
   "id": "b0519972",
   "metadata": {
    "execution": {
     "iopub.execute_input": "2024-05-11T07:20:58.255479Z",
     "iopub.status.busy": "2024-05-11T07:20:58.255107Z",
     "iopub.status.idle": "2024-05-11T07:20:58.260546Z",
     "shell.execute_reply": "2024-05-11T07:20:58.259687Z"
    },
    "papermill": {
     "duration": 0.029018,
     "end_time": "2024-05-11T07:20:58.262438",
     "exception": false,
     "start_time": "2024-05-11T07:20:58.233420",
     "status": "completed"
    },
    "tags": []
   },
   "outputs": [
    {
     "data": {
      "text/plain": [
       "(9822, 2)"
      ]
     },
     "execution_count": 14,
     "metadata": {},
     "output_type": "execute_result"
    }
   ],
   "source": [
    "test_df.shape"
   ]
  },
  {
   "cell_type": "code",
   "execution_count": 15,
   "id": "ae7e5627",
   "metadata": {
    "execution": {
     "iopub.execute_input": "2024-05-11T07:20:58.304659Z",
     "iopub.status.busy": "2024-05-11T07:20:58.304385Z",
     "iopub.status.idle": "2024-05-11T07:20:58.809536Z",
     "shell.execute_reply": "2024-05-11T07:20:58.808761Z"
    },
    "papermill": {
     "duration": 0.528762,
     "end_time": "2024-05-11T07:20:58.811730",
     "exception": false,
     "start_time": "2024-05-11T07:20:58.282968",
     "status": "completed"
    },
    "tags": []
   },
   "outputs": [],
   "source": [
    "# NLTK library to remove Stopwords.\n",
    "from nltk.corpus import stopwords"
   ]
  },
  {
   "cell_type": "code",
   "execution_count": 16,
   "id": "9de8e4af",
   "metadata": {
    "execution": {
     "iopub.execute_input": "2024-05-11T07:20:58.855490Z",
     "iopub.status.busy": "2024-05-11T07:20:58.854749Z",
     "iopub.status.idle": "2024-05-11T07:20:58.863750Z",
     "shell.execute_reply": "2024-05-11T07:20:58.863042Z"
    },
    "papermill": {
     "duration": 0.032614,
     "end_time": "2024-05-11T07:20:58.865569",
     "exception": false,
     "start_time": "2024-05-11T07:20:58.832955",
     "status": "completed"
    },
    "tags": []
   },
   "outputs": [],
   "source": [
    "stopword = stopwords.words('english')"
   ]
  },
  {
   "cell_type": "code",
   "execution_count": 17,
   "id": "2b795e6a",
   "metadata": {
    "execution": {
     "iopub.execute_input": "2024-05-11T07:20:58.908081Z",
     "iopub.status.busy": "2024-05-11T07:20:58.907823Z",
     "iopub.status.idle": "2024-05-11T07:20:58.936191Z",
     "shell.execute_reply": "2024-05-11T07:20:58.935513Z"
    },
    "papermill": {
     "duration": 0.051406,
     "end_time": "2024-05-11T07:20:58.937967",
     "exception": false,
     "start_time": "2024-05-11T07:20:58.886561",
     "status": "completed"
    },
    "tags": []
   },
   "outputs": [],
   "source": [
    "# Store the length of each review before removing less important words\n",
    "train_df['length_before'] = train_df['text'].apply(len)"
   ]
  },
  {
   "cell_type": "code",
   "execution_count": 18,
   "id": "02fd352f",
   "metadata": {
    "execution": {
     "iopub.execute_input": "2024-05-11T07:20:58.980228Z",
     "iopub.status.busy": "2024-05-11T07:20:58.979936Z",
     "iopub.status.idle": "2024-05-11T07:21:27.351326Z",
     "shell.execute_reply": "2024-05-11T07:21:27.350325Z"
    },
    "papermill": {
     "duration": 28.394956,
     "end_time": "2024-05-11T07:21:27.353437",
     "exception": false,
     "start_time": "2024-05-11T07:20:58.958481",
     "status": "completed"
    },
    "tags": []
   },
   "outputs": [
    {
     "data": {
      "text/html": [
       "<div>\n",
       "<style scoped>\n",
       "    .dataframe tbody tr th:only-of-type {\n",
       "        vertical-align: middle;\n",
       "    }\n",
       "\n",
       "    .dataframe tbody tr th {\n",
       "        vertical-align: top;\n",
       "    }\n",
       "\n",
       "    .dataframe thead th {\n",
       "        text-align: right;\n",
       "    }\n",
       "</style>\n",
       "<table border=\"1\" class=\"dataframe\">\n",
       "  <thead>\n",
       "    <tr style=\"text-align: right;\">\n",
       "      <th></th>\n",
       "      <th>text</th>\n",
       "      <th>hospital_expire_flag</th>\n",
       "      <th>length_before</th>\n",
       "    </tr>\n",
       "  </thead>\n",
       "  <tbody>\n",
       "    <tr>\n",
       "      <th>0</th>\n",
       "      <td>CHIEF COMPLAINT: AMS, concern  toxic alcohol i...</td>\n",
       "      <td>0</td>\n",
       "      <td>3394</td>\n",
       "    </tr>\n",
       "    <tr>\n",
       "      <th>1</th>\n",
       "      <td>CHIEF COMPLAINT: abdominal pain PRESENT ILLNES...</td>\n",
       "      <td>0</td>\n",
       "      <td>2709</td>\n",
       "    </tr>\n",
       "    <tr>\n",
       "      <th>2</th>\n",
       "      <td>CHIEF COMPLAINT: Bilateral Sub Dural Hematoma ...</td>\n",
       "      <td>0</td>\n",
       "      <td>6166</td>\n",
       "    </tr>\n",
       "    <tr>\n",
       "      <th>3</th>\n",
       "      <td>CHIEF COMPLAINT: Intracranial bleed PRESENT IL...</td>\n",
       "      <td>0</td>\n",
       "      <td>2292</td>\n",
       "    </tr>\n",
       "    <tr>\n",
       "      <th>4</th>\n",
       "      <td>CHIEF COMPLAINT: ischemic left foot PRESENT IL...</td>\n",
       "      <td>0</td>\n",
       "      <td>1885</td>\n",
       "    </tr>\n",
       "  </tbody>\n",
       "</table>\n",
       "</div>"
      ],
      "text/plain": [
       "                                                text  hospital_expire_flag  \\\n",
       "0  CHIEF COMPLAINT: AMS, concern  toxic alcohol i...                     0   \n",
       "1  CHIEF COMPLAINT: abdominal pain PRESENT ILLNES...                     0   \n",
       "2  CHIEF COMPLAINT: Bilateral Sub Dural Hematoma ...                     0   \n",
       "3  CHIEF COMPLAINT: Intracranial bleed PRESENT IL...                     0   \n",
       "4  CHIEF COMPLAINT: ischemic left foot PRESENT IL...                     0   \n",
       "\n",
       "   length_before  \n",
       "0           3394  \n",
       "1           2709  \n",
       "2           6166  \n",
       "3           2292  \n",
       "4           1885  "
      ]
     },
     "execution_count": 18,
     "metadata": {},
     "output_type": "execute_result"
    }
   ],
   "source": [
    "# Function\n",
    "def remove_stopwords(text):\n",
    "    new_text = []\n",
    "    \n",
    "    for word in text.split():\n",
    "        if word in stopword:\n",
    "            new_text.append('')\n",
    "        else:\n",
    "            new_text.append(word)\n",
    "    x = new_text[:]\n",
    "    new_text.clear()\n",
    "    return \" \".join(x)\n",
    "\n",
    "# Calling Function \n",
    "train_df['text'] = train_df['text'].apply(remove_stopwords)\n",
    "\n",
    "train_df.head()"
   ]
  },
  {
   "cell_type": "code",
   "execution_count": 19,
   "id": "ff72c6c8",
   "metadata": {
    "execution": {
     "iopub.execute_input": "2024-05-11T07:21:27.398696Z",
     "iopub.status.busy": "2024-05-11T07:21:27.398131Z",
     "iopub.status.idle": "2024-05-11T07:21:27.430373Z",
     "shell.execute_reply": "2024-05-11T07:21:27.429381Z"
    },
    "papermill": {
     "duration": 0.055995,
     "end_time": "2024-05-11T07:21:27.432285",
     "exception": false,
     "start_time": "2024-05-11T07:21:27.376290",
     "status": "completed"
    },
    "tags": []
   },
   "outputs": [
    {
     "data": {
      "text/html": [
       "<div>\n",
       "<style scoped>\n",
       "    .dataframe tbody tr th:only-of-type {\n",
       "        vertical-align: middle;\n",
       "    }\n",
       "\n",
       "    .dataframe tbody tr th {\n",
       "        vertical-align: top;\n",
       "    }\n",
       "\n",
       "    .dataframe thead th {\n",
       "        text-align: right;\n",
       "    }\n",
       "</style>\n",
       "<table border=\"1\" class=\"dataframe\">\n",
       "  <thead>\n",
       "    <tr style=\"text-align: right;\">\n",
       "      <th></th>\n",
       "      <th>text</th>\n",
       "      <th>hospital_expire_flag</th>\n",
       "      <th>length_before</th>\n",
       "      <th>length_after</th>\n",
       "    </tr>\n",
       "  </thead>\n",
       "  <tbody>\n",
       "    <tr>\n",
       "      <th>0</th>\n",
       "      <td>CHIEF COMPLAINT: AMS, concern  toxic alcohol i...</td>\n",
       "      <td>0</td>\n",
       "      <td>3394</td>\n",
       "      <td>3031</td>\n",
       "    </tr>\n",
       "    <tr>\n",
       "      <th>1</th>\n",
       "      <td>CHIEF COMPLAINT: abdominal pain PRESENT ILLNES...</td>\n",
       "      <td>0</td>\n",
       "      <td>2709</td>\n",
       "      <td>2481</td>\n",
       "    </tr>\n",
       "    <tr>\n",
       "      <th>2</th>\n",
       "      <td>CHIEF COMPLAINT: Bilateral Sub Dural Hematoma ...</td>\n",
       "      <td>0</td>\n",
       "      <td>6166</td>\n",
       "      <td>5214</td>\n",
       "    </tr>\n",
       "    <tr>\n",
       "      <th>3</th>\n",
       "      <td>CHIEF COMPLAINT: Intracranial bleed PRESENT IL...</td>\n",
       "      <td>0</td>\n",
       "      <td>2292</td>\n",
       "      <td>1983</td>\n",
       "    </tr>\n",
       "    <tr>\n",
       "      <th>4</th>\n",
       "      <td>CHIEF COMPLAINT: ischemic left foot PRESENT IL...</td>\n",
       "      <td>0</td>\n",
       "      <td>1885</td>\n",
       "      <td>1722</td>\n",
       "    </tr>\n",
       "  </tbody>\n",
       "</table>\n",
       "</div>"
      ],
      "text/plain": [
       "                                                text  hospital_expire_flag  \\\n",
       "0  CHIEF COMPLAINT: AMS, concern  toxic alcohol i...                     0   \n",
       "1  CHIEF COMPLAINT: abdominal pain PRESENT ILLNES...                     0   \n",
       "2  CHIEF COMPLAINT: Bilateral Sub Dural Hematoma ...                     0   \n",
       "3  CHIEF COMPLAINT: Intracranial bleed PRESENT IL...                     0   \n",
       "4  CHIEF COMPLAINT: ischemic left foot PRESENT IL...                     0   \n",
       "\n",
       "   length_before  length_after  \n",
       "0           3394          3031  \n",
       "1           2709          2481  \n",
       "2           6166          5214  \n",
       "3           2292          1983  \n",
       "4           1885          1722  "
      ]
     },
     "execution_count": 19,
     "metadata": {},
     "output_type": "execute_result"
    }
   ],
   "source": [
    "# Store the length of each review before removing less important words\n",
    "train_df['length_after'] = train_df['text'].apply(len)\n",
    "train_df.head()"
   ]
  },
  {
   "cell_type": "code",
   "execution_count": 20,
   "id": "ca7394a1",
   "metadata": {
    "execution": {
     "iopub.execute_input": "2024-05-11T07:21:27.477196Z",
     "iopub.status.busy": "2024-05-11T07:21:27.476909Z",
     "iopub.status.idle": "2024-05-11T07:21:35.826207Z",
     "shell.execute_reply": "2024-05-11T07:21:35.825181Z"
    },
    "papermill": {
     "duration": 8.374584,
     "end_time": "2024-05-11T07:21:35.828533",
     "exception": false,
     "start_time": "2024-05-11T07:21:27.453949",
     "status": "completed"
    },
    "tags": []
   },
   "outputs": [
    {
     "data": {
      "text/html": [
       "<div>\n",
       "<style scoped>\n",
       "    .dataframe tbody tr th:only-of-type {\n",
       "        vertical-align: middle;\n",
       "    }\n",
       "\n",
       "    .dataframe tbody tr th {\n",
       "        vertical-align: top;\n",
       "    }\n",
       "\n",
       "    .dataframe thead th {\n",
       "        text-align: right;\n",
       "    }\n",
       "</style>\n",
       "<table border=\"1\" class=\"dataframe\">\n",
       "  <thead>\n",
       "    <tr style=\"text-align: right;\">\n",
       "      <th></th>\n",
       "      <th>text</th>\n",
       "      <th>hospital_expire_flag</th>\n",
       "    </tr>\n",
       "  </thead>\n",
       "  <tbody>\n",
       "    <tr>\n",
       "      <th>0</th>\n",
       "      <td>CHIEF COMPLAINT: PRESENT ILLNESS: The patient ...</td>\n",
       "      <td>0</td>\n",
       "    </tr>\n",
       "    <tr>\n",
       "      <th>1</th>\n",
       "      <td>CHIEF COMPLAINT: shortness  breath PRESENT ILL...</td>\n",
       "      <td>0</td>\n",
       "    </tr>\n",
       "    <tr>\n",
       "      <th>2</th>\n",
       "      <td>CHIEF COMPLAINT: s/p mechanical fall PRESENT I...</td>\n",
       "      <td>0</td>\n",
       "    </tr>\n",
       "    <tr>\n",
       "      <th>3</th>\n",
       "      <td>CHIEF COMPLAINT: nausea  vomiting PRESENT ILLN...</td>\n",
       "      <td>0</td>\n",
       "    </tr>\n",
       "    <tr>\n",
       "      <th>4</th>\n",
       "      <td>CHIEF COMPLAINT: PRESENT ILLNESS: The patient ...</td>\n",
       "      <td>1</td>\n",
       "    </tr>\n",
       "  </tbody>\n",
       "</table>\n",
       "</div>"
      ],
      "text/plain": [
       "                                                text  hospital_expire_flag\n",
       "0  CHIEF COMPLAINT: PRESENT ILLNESS: The patient ...                     0\n",
       "1  CHIEF COMPLAINT: shortness  breath PRESENT ILL...                     0\n",
       "2  CHIEF COMPLAINT: s/p mechanical fall PRESENT I...                     0\n",
       "3  CHIEF COMPLAINT: nausea  vomiting PRESENT ILLN...                     0\n",
       "4  CHIEF COMPLAINT: PRESENT ILLNESS: The patient ...                     1"
      ]
     },
     "execution_count": 20,
     "metadata": {},
     "output_type": "execute_result"
    }
   ],
   "source": [
    "# Calling Function \n",
    "test_df['text'] = test_df['text'].apply(remove_stopwords)\n",
    "\n",
    "test_df.head()"
   ]
  },
  {
   "cell_type": "code",
   "execution_count": 21,
   "id": "d6b839c7",
   "metadata": {
    "execution": {
     "iopub.execute_input": "2024-05-11T07:21:35.874014Z",
     "iopub.status.busy": "2024-05-11T07:21:35.873694Z",
     "iopub.status.idle": "2024-05-11T07:21:39.955257Z",
     "shell.execute_reply": "2024-05-11T07:21:39.954285Z"
    },
    "papermill": {
     "duration": 4.106432,
     "end_time": "2024-05-11T07:21:39.957442",
     "exception": false,
     "start_time": "2024-05-11T07:21:35.851010",
     "status": "completed"
    },
    "tags": []
   },
   "outputs": [
    {
     "data": {
      "text/html": [
       "<div>\n",
       "<style scoped>\n",
       "    .dataframe tbody tr th:only-of-type {\n",
       "        vertical-align: middle;\n",
       "    }\n",
       "\n",
       "    .dataframe tbody tr th {\n",
       "        vertical-align: top;\n",
       "    }\n",
       "\n",
       "    .dataframe thead th {\n",
       "        text-align: right;\n",
       "    }\n",
       "</style>\n",
       "<table border=\"1\" class=\"dataframe\">\n",
       "  <thead>\n",
       "    <tr style=\"text-align: right;\">\n",
       "      <th></th>\n",
       "      <th>text</th>\n",
       "      <th>hospital_expire_flag</th>\n",
       "    </tr>\n",
       "  </thead>\n",
       "  <tbody>\n",
       "    <tr>\n",
       "      <th>0</th>\n",
       "      <td>CHIEF COMPLAINT: # Lethargy # Confusion # Hypo...</td>\n",
       "      <td>0</td>\n",
       "    </tr>\n",
       "    <tr>\n",
       "      <th>1</th>\n",
       "      <td>CHIEF COMPLAINT: Dyspnea, LE edema PRESENT ILL...</td>\n",
       "      <td>0</td>\n",
       "    </tr>\n",
       "    <tr>\n",
       "      <th>2</th>\n",
       "      <td>CHIEF COMPLAINT: upper GI bleed PRESENT ILLNES...</td>\n",
       "      <td>1</td>\n",
       "    </tr>\n",
       "    <tr>\n",
       "      <th>3</th>\n",
       "      <td>CHIEF COMPLAINT: increased lethargy PRESENT IL...</td>\n",
       "      <td>0</td>\n",
       "    </tr>\n",
       "    <tr>\n",
       "      <th>4</th>\n",
       "      <td>CHIEF COMPLAINT: s/p 18 ft fall PRESENT ILLNES...</td>\n",
       "      <td>0</td>\n",
       "    </tr>\n",
       "  </tbody>\n",
       "</table>\n",
       "</div>"
      ],
      "text/plain": [
       "                                                text  hospital_expire_flag\n",
       "0  CHIEF COMPLAINT: # Lethargy # Confusion # Hypo...                     0\n",
       "1  CHIEF COMPLAINT: Dyspnea, LE edema PRESENT ILL...                     0\n",
       "2  CHIEF COMPLAINT: upper GI bleed PRESENT ILLNES...                     1\n",
       "3  CHIEF COMPLAINT: increased lethargy PRESENT IL...                     0\n",
       "4  CHIEF COMPLAINT: s/p 18 ft fall PRESENT ILLNES...                     0"
      ]
     },
     "execution_count": 21,
     "metadata": {},
     "output_type": "execute_result"
    }
   ],
   "source": [
    "# Calling Function \n",
    "val_df['text'] = val_df['text'].apply(remove_stopwords)\n",
    "\n",
    "val_df.head()"
   ]
  },
  {
   "cell_type": "code",
   "execution_count": 22,
   "id": "5ffe26e6",
   "metadata": {
    "execution": {
     "iopub.execute_input": "2024-05-11T07:21:40.045270Z",
     "iopub.status.busy": "2024-05-11T07:21:40.044905Z",
     "iopub.status.idle": "2024-05-11T07:21:40.054042Z",
     "shell.execute_reply": "2024-05-11T07:21:40.053217Z"
    },
    "papermill": {
     "duration": 0.076535,
     "end_time": "2024-05-11T07:21:40.056005",
     "exception": false,
     "start_time": "2024-05-11T07:21:39.979470",
     "status": "completed"
    },
    "tags": []
   },
   "outputs": [],
   "source": [
    "train_texts = train_df['text'].tolist()\n",
    "train_labels = train_df['hospital_expire_flag'].tolist()\n",
    "val_texts = val_df['text'].tolist()\n",
    "val_labels = val_df['hospital_expire_flag'].tolist()\n",
    "test_texts = test_df['text'].tolist()\n",
    "test_labels = test_df['hospital_expire_flag'].tolist()"
   ]
  },
  {
   "cell_type": "code",
   "execution_count": 23,
   "id": "d34a9b01",
   "metadata": {
    "execution": {
     "iopub.execute_input": "2024-05-11T07:21:40.100735Z",
     "iopub.status.busy": "2024-05-11T07:21:40.100482Z",
     "iopub.status.idle": "2024-05-11T07:21:40.107298Z",
     "shell.execute_reply": "2024-05-11T07:21:40.106430Z"
    },
    "papermill": {
     "duration": 0.031192,
     "end_time": "2024-05-11T07:21:40.109104",
     "exception": false,
     "start_time": "2024-05-11T07:21:40.077912",
     "status": "completed"
    },
    "tags": []
   },
   "outputs": [],
   "source": [
    "class TextClassificationDataset(Dataset):\n",
    "    def __init__(self, texts, labels, tokenizer, max_length):\n",
    "        self.texts = [str(text) for text in texts]\n",
    "        self.labels = labels\n",
    "        self.tokenizer = tokenizer\n",
    "        self.max_length = max_length\n",
    "    def __len__(self):\n",
    "        return len(self.texts)\n",
    "    def __getitem__(self, idx):\n",
    "        text = self.texts[idx]\n",
    "        label = self.labels[idx]\n",
    "        encoding = self.tokenizer(text, return_tensors='pt', max_length=self.max_length, padding='max_length', truncation=True)\n",
    "        return {'input_ids': encoding['input_ids'].flatten(), 'attention_mask': encoding['attention_mask'].flatten(), 'label': torch.tensor(label)}"
   ]
  },
  {
   "cell_type": "code",
   "execution_count": 24,
   "id": "da7a7c31",
   "metadata": {
    "execution": {
     "iopub.execute_input": "2024-05-11T07:21:40.153666Z",
     "iopub.status.busy": "2024-05-11T07:21:40.153415Z",
     "iopub.status.idle": "2024-05-11T07:21:40.159731Z",
     "shell.execute_reply": "2024-05-11T07:21:40.158923Z"
    },
    "papermill": {
     "duration": 0.030904,
     "end_time": "2024-05-11T07:21:40.161660",
     "exception": false,
     "start_time": "2024-05-11T07:21:40.130756",
     "status": "completed"
    },
    "tags": []
   },
   "outputs": [],
   "source": [
    "class BERTClassifier(nn.Module):\n",
    "    def __init__(self, bert_model_name, num_classes):\n",
    "        super(BERTClassifier, self).__init__()\n",
    "        self.bert = BertModel.from_pretrained(bert_model_name)\n",
    "        self.dropout = nn.Dropout(0.2)\n",
    "        self.fc = nn.Linear(self.bert.config.hidden_size, num_classes)\n",
    "\n",
    "    def forward(self, input_ids, attention_mask):\n",
    "        outputs = self.bert(input_ids=input_ids, attention_mask=attention_mask)\n",
    "        pooled_output = outputs.pooler_output\n",
    "        x = self.dropout(pooled_output)\n",
    "        logits = self.fc(x)\n",
    "        return logits"
   ]
  },
  {
   "cell_type": "code",
   "execution_count": 25,
   "id": "252e965b",
   "metadata": {
    "execution": {
     "iopub.execute_input": "2024-05-11T07:21:40.207078Z",
     "iopub.status.busy": "2024-05-11T07:21:40.206801Z",
     "iopub.status.idle": "2024-05-11T07:21:40.210838Z",
     "shell.execute_reply": "2024-05-11T07:21:40.210013Z"
    },
    "papermill": {
     "duration": 0.028867,
     "end_time": "2024-05-11T07:21:40.212755",
     "exception": false,
     "start_time": "2024-05-11T07:21:40.183888",
     "status": "completed"
    },
    "tags": []
   },
   "outputs": [],
   "source": [
    "# Set up parameters\n",
    "bert_model_name = 'dmis-lab/biobert-base-cased-v1.2'\n",
    "num_classes = 2\n",
    "max_length = 512\n",
    "batch_size = 8"
   ]
  },
  {
   "cell_type": "code",
   "execution_count": 26,
   "id": "1395faf8",
   "metadata": {
    "execution": {
     "iopub.execute_input": "2024-05-11T07:21:40.257564Z",
     "iopub.status.busy": "2024-05-11T07:21:40.257306Z",
     "iopub.status.idle": "2024-05-11T07:21:41.081645Z",
     "shell.execute_reply": "2024-05-11T07:21:41.080855Z"
    },
    "papermill": {
     "duration": 0.849336,
     "end_time": "2024-05-11T07:21:41.083966",
     "exception": false,
     "start_time": "2024-05-11T07:21:40.234630",
     "status": "completed"
    },
    "tags": []
   },
   "outputs": [
    {
     "data": {
      "application/vnd.jupyter.widget-view+json": {
       "model_id": "2df72b5a08824a31a39fa0c5f1f142ce",
       "version_major": 2,
       "version_minor": 0
      },
      "text/plain": [
       "vocab.txt:   0%|          | 0.00/213k [00:00<?, ?B/s]"
      ]
     },
     "metadata": {},
     "output_type": "display_data"
    },
    {
     "data": {
      "application/vnd.jupyter.widget-view+json": {
       "model_id": "83c08e5122d34c529a0d56ea2948b764",
       "version_major": 2,
       "version_minor": 0
      },
      "text/plain": [
       "config.json:   0%|          | 0.00/1.11k [00:00<?, ?B/s]"
      ]
     },
     "metadata": {},
     "output_type": "display_data"
    }
   ],
   "source": [
    "tokenizer = BertTokenizer.from_pretrained(bert_model_name)\n",
    "\n",
    "train_dataset = TextClassificationDataset(train_texts, train_labels, tokenizer, max_length)\n",
    "val_dataset = TextClassificationDataset(val_texts, val_labels, tokenizer, max_length)\n",
    "test_dataset = TextClassificationDataset(test_texts, test_labels, tokenizer, max_length)\n",
    "\n",
    "train_dataloader = DataLoader(train_dataset, batch_size=batch_size, shuffle=True)\n",
    "val_dataloader = DataLoader(val_dataset, batch_size=batch_size)\n",
    "test_dataloader = DataLoader(test_dataset, batch_size=batch_size)"
   ]
  },
  {
   "cell_type": "code",
   "execution_count": 27,
   "id": "e4b2e502",
   "metadata": {
    "execution": {
     "iopub.execute_input": "2024-05-11T07:21:41.132508Z",
     "iopub.status.busy": "2024-05-11T07:21:41.132150Z",
     "iopub.status.idle": "2024-05-11T07:21:44.032981Z",
     "shell.execute_reply": "2024-05-11T07:21:44.032189Z"
    },
    "papermill": {
     "duration": 2.928408,
     "end_time": "2024-05-11T07:21:44.035442",
     "exception": false,
     "start_time": "2024-05-11T07:21:41.107034",
     "status": "completed"
    },
    "tags": []
   },
   "outputs": [
    {
     "data": {
      "application/vnd.jupyter.widget-view+json": {
       "model_id": "df4953e63e9347268d9fd148f7f5f227",
       "version_major": 2,
       "version_minor": 0
      },
      "text/plain": [
       "pytorch_model.bin:   0%|          | 0.00/436M [00:00<?, ?B/s]"
      ]
     },
     "metadata": {},
     "output_type": "display_data"
    },
    {
     "name": "stderr",
     "output_type": "stream",
     "text": [
      "/opt/conda/lib/python3.10/site-packages/torch/_utils.py:831: UserWarning: TypedStorage is deprecated. It will be removed in the future and UntypedStorage will be the only storage class. This should only matter to you if you are using storages directly.  To access UntypedStorage directly, use tensor.untyped_storage() instead of tensor.storage()\n",
      "  return self.fget.__get__(instance, owner)()\n"
     ]
    }
   ],
   "source": [
    "device = torch.device(\"cuda\" if torch.cuda.is_available() else \"cpu\")\n",
    "model = BERTClassifier(bert_model_name, num_classes).to(device)"
   ]
  },
  {
   "cell_type": "code",
   "execution_count": 28,
   "id": "1f8c399a",
   "metadata": {
    "execution": {
     "iopub.execute_input": "2024-05-11T07:21:44.082444Z",
     "iopub.status.busy": "2024-05-11T07:21:44.082083Z",
     "iopub.status.idle": "2024-05-11T07:21:44.089511Z",
     "shell.execute_reply": "2024-05-11T07:21:44.088651Z"
    },
    "papermill": {
     "duration": 0.032942,
     "end_time": "2024-05-11T07:21:44.091341",
     "exception": false,
     "start_time": "2024-05-11T07:21:44.058399",
     "status": "completed"
    },
    "tags": []
   },
   "outputs": [],
   "source": [
    "epochs = 20\n",
    "best_roc_auc = 0.0\n",
    "min_delta = 0.0001\n",
    "early_stopping_count = 0\n",
    "early_stopping_patience = 3\n",
    "gradient_accumulation_steps = 10\n",
    "\n",
    "# Set the optimizer\n",
    "optimizer = optim.AdamW(model.parameters(), lr=1e-5, weight_decay=0.01)\n",
    "\n",
    "# Set the scheduler\n",
    "scheduler = get_linear_schedule_with_warmup(\n",
    "    optimizer, \n",
    "    num_warmup_steps=50, \n",
    "    num_training_steps=len(train_dataloader) * epochs // gradient_accumulation_steps\n",
    ")\n"
   ]
  },
  {
   "cell_type": "code",
   "execution_count": 29,
   "id": "d13426ed",
   "metadata": {
    "execution": {
     "iopub.execute_input": "2024-05-11T07:21:44.138032Z",
     "iopub.status.busy": "2024-05-11T07:21:44.137717Z",
     "iopub.status.idle": "2024-05-11T12:02:23.268074Z",
     "shell.execute_reply": "2024-05-11T12:02:23.267098Z"
    },
    "papermill": {
     "duration": 16839.180053,
     "end_time": "2024-05-11T12:02:23.293930",
     "exception": false,
     "start_time": "2024-05-11T07:21:44.113877",
     "status": "completed"
    },
    "tags": []
   },
   "outputs": [
    {
     "name": "stdout",
     "output_type": "stream",
     "text": [
      "Epoch: 1/20, Training Loss: 0.3553, Validation Loss: 0.3091\n",
      "Accuracy: 0.8945, Recall: 0.8945, Precision: 0.8001, F1: 0.8446269609908136, Micro F1: 0.8945, Macro Roc Auc: 0.7298\n"
     ]
    },
    {
     "name": "stderr",
     "output_type": "stream",
     "text": [
      "/opt/conda/lib/python3.10/site-packages/sklearn/metrics/_classification.py:1344: UndefinedMetricWarning: Precision is ill-defined and being set to 0.0 in labels with no predicted samples. Use `zero_division` parameter to control this behavior.\n",
      "  _warn_prf(average, modifier, msg_start, len(result))\n"
     ]
    },
    {
     "name": "stdout",
     "output_type": "stream",
     "text": [
      "Epoch: 2/20, Training Loss: 0.2957, Validation Loss: 0.2818\n",
      "Accuracy: 0.8971, Recall: 0.8971, Precision: 0.8690, F1: 0.8688424962394484, Micro F1: 0.8971, Macro Roc Auc: 0.7990\n",
      "Epoch: 3/20, Training Loss: 0.2664, Validation Loss: 0.2705\n",
      "Accuracy: 0.8981, Recall: 0.8981, Precision: 0.8778, F1: 0.8584159595676093, Micro F1: 0.8981, Macro Roc Auc: 0.8191\n",
      "Epoch: 4/20, Training Loss: 0.2406, Validation Loss: 0.2703\n",
      "Accuracy: 0.8987, Recall: 0.8987, Precision: 0.8773, F1: 0.8812888893143698, Micro F1: 0.8987, Macro Roc Auc: 0.8217\n",
      "Epoch: 5/20, Training Loss: 0.2118, Validation Loss: 0.2981\n",
      "Accuracy: 0.8975, Recall: 0.8975, Precision: 0.8717, F1: 0.8738673084264775, Micro F1: 0.8975, Macro Roc Auc: 0.8023\n",
      "EarlyStopping counter: 1 out of 3\n",
      "Epoch: 6/20, Training Loss: 0.1780, Validation Loss: 0.3059\n",
      "Accuracy: 0.8902, Recall: 0.8902, Precision: 0.8711, F1: 0.8777330356474902, Micro F1: 0.8902, Macro Roc Auc: 0.8101\n",
      "EarlyStopping counter: 2 out of 3\n",
      "Epoch: 7/20, Training Loss: 0.1414, Validation Loss: 0.3854\n",
      "Accuracy: 0.8936, Recall: 0.8936, Precision: 0.8667, F1: 0.8723517075532424, Micro F1: 0.8936, Macro Roc Auc: 0.7898\n",
      "EarlyStopping counter: 3 out of 3\n",
      "Early stopping\n"
     ]
    }
   ],
   "source": [
    "# Training loop\n",
    "for epoch in range(epochs):\n",
    "    model.train()\n",
    "    train_loss = 0\n",
    "    for step, batch in enumerate(train_dataloader):\n",
    "        optimizer.zero_grad() if step % gradient_accumulation_steps == 0 else None\n",
    "        input_ids = batch['input_ids'].to(device)\n",
    "        attention_mask = batch['attention_mask'].to(device)\n",
    "        labels = batch['label'].to(device)\n",
    "        outputs = model(input_ids, attention_mask)\n",
    "        loss = nn.CrossEntropyLoss()(outputs, labels)\n",
    "        (loss / gradient_accumulation_steps).backward()\n",
    "        train_loss += loss.item()\n",
    "        if (step + 1) % gradient_accumulation_steps == 0 or (step + 1) == len(train_dataloader):\n",
    "            optimizer.step()\n",
    "            scheduler.step()\n",
    "            \n",
    "    model.eval()\n",
    "    val_loss = 0\n",
    "    val_preds = []\n",
    "    val_labels = []\n",
    "    with torch.no_grad():\n",
    "        for batch in val_dataloader:\n",
    "            input_ids = batch['input_ids'].to(device)\n",
    "            attention_mask = batch['attention_mask'].to(device)\n",
    "            labels = batch['label'].to(device)\n",
    "            outputs = model(input_ids, attention_mask)\n",
    "            loss = nn.CrossEntropyLoss()(outputs, labels)\n",
    "            val_loss += loss.item()\n",
    "            val_preds.append(F.softmax(outputs, dim=1).cpu().numpy())\n",
    "            val_labels.append(labels.cpu().numpy())\n",
    "            \n",
    "    val_preds = np.concatenate(val_preds)\n",
    "    val_labels = np.concatenate(val_labels)\n",
    "    val_loss /= len(val_dataloader)\n",
    "    train_loss /= len(train_dataloader)\n",
    "    print(f'Epoch: {epoch+1}/{epochs}, Training Loss: {train_loss:.4f}, Validation Loss: {val_loss:.4f}')\n",
    "    \n",
    "    # Calculate metrics\n",
    "    val_preds_class = np.argmax(val_preds, axis=1)\n",
    "    accuracy = accuracy_score(val_labels, val_preds_class)\n",
    "    recall = recall_score(val_labels, val_preds_class, average='weighted')\n",
    "    precision = precision_score(val_labels, val_preds_class, average='weighted')\n",
    "    f1 = f1_score(val_labels, val_preds_class, average='weighted')\n",
    "    micro_f1 = f1_score(val_labels, val_preds_class, average='micro')\n",
    "    macro_roc_auc = roc_auc_score(val_labels, val_preds[:, 1], multi_class='ovo', average='macro')  # Changed val_preds to val_preds[:, 1]\n",
    "    \n",
    "    print(f'Accuracy: {accuracy:.4f}, Recall: {recall:.4f}, Precision: {precision:.4f}, F1: {f1}, Micro F1: {micro_f1:.4f}, Macro Roc Auc: {macro_roc_auc:.4f}')\n",
    "            \n",
    "    # Implement early stopping\n",
    "    if epoch > 0 and macro_roc_auc - best_roc_auc < min_delta:\n",
    "        early_stopping_count += 1\n",
    "        print(f'EarlyStopping counter: {early_stopping_count} out of {early_stopping_patience}')\n",
    "        if early_stopping_count >= early_stopping_patience:\n",
    "            print('Early stopping')\n",
    "            break\n",
    "    else:\n",
    "        best_roc_auc = macro_roc_auc\n",
    "        early_stopping_count = 0  # Reset early stopping counter\n"
   ]
  },
  {
   "cell_type": "code",
   "execution_count": 30,
   "id": "e749c450",
   "metadata": {
    "execution": {
     "iopub.execute_input": "2024-05-11T12:02:23.341985Z",
     "iopub.status.busy": "2024-05-11T12:02:23.341443Z",
     "iopub.status.idle": "2024-05-11T12:07:39.396263Z",
     "shell.execute_reply": "2024-05-11T12:07:39.395193Z"
    },
    "papermill": {
     "duration": 316.081334,
     "end_time": "2024-05-11T12:07:39.398823",
     "exception": false,
     "start_time": "2024-05-11T12:02:23.317489",
     "status": "completed"
    },
    "tags": []
   },
   "outputs": [],
   "source": [
    "model.eval()\n",
    "\n",
    "test_preds = []\n",
    "test_labels = []\n",
    "\n",
    "# Iterate over test data\n",
    "with torch.no_grad():\n",
    "    for batch in test_dataloader:\n",
    "        input_ids = batch['input_ids'].to(device)\n",
    "        attention_mask = batch['attention_mask'].to(device)\n",
    "        labels = batch['label'].to(device)\n",
    "        outputs = model(input_ids, attention_mask)\n",
    "        test_preds.append(F.softmax(outputs, dim=1).cpu().numpy())\n",
    "        test_labels.append(labels.cpu().numpy())\n"
   ]
  },
  {
   "cell_type": "code",
   "execution_count": 31,
   "id": "39ff4d7d",
   "metadata": {
    "execution": {
     "iopub.execute_input": "2024-05-11T12:07:39.448259Z",
     "iopub.status.busy": "2024-05-11T12:07:39.447882Z",
     "iopub.status.idle": "2024-05-11T12:07:39.486333Z",
     "shell.execute_reply": "2024-05-11T12:07:39.485429Z"
    },
    "papermill": {
     "duration": 0.065589,
     "end_time": "2024-05-11T12:07:39.488564",
     "exception": false,
     "start_time": "2024-05-11T12:07:39.422975",
     "status": "completed"
    },
    "tags": []
   },
   "outputs": [
    {
     "name": "stdout",
     "output_type": "stream",
     "text": [
      "              precision    recall  f1-score   support\n",
      "\n",
      "           0     0.9142    0.9757    0.9439      8797\n",
      "           1     0.5058    0.2137    0.3004      1025\n",
      "\n",
      "    accuracy                         0.8962      9822\n",
      "   macro avg     0.7100    0.5947    0.6222      9822\n",
      "weighted avg     0.8715    0.8962    0.8768      9822\n",
      "\n"
     ]
    }
   ],
   "source": [
    "test_preds = np.concatenate(test_preds)\n",
    "test_labels = np.concatenate(test_labels)\n",
    "\n",
    "test_preds_class = np.argmax(test_preds, axis=1)\n",
    "\n",
    "report = classification_report(test_labels, test_preds_class, digits=4)\n",
    "\n",
    "print(report)"
   ]
  },
  {
   "cell_type": "code",
   "execution_count": null,
   "id": "8975b278",
   "metadata": {
    "papermill": {
     "duration": 0.023612,
     "end_time": "2024-05-11T12:07:39.535570",
     "exception": false,
     "start_time": "2024-05-11T12:07:39.511958",
     "status": "completed"
    },
    "tags": []
   },
   "outputs": [],
   "source": []
  }
 ],
 "metadata": {
  "kaggle": {
   "accelerator": "gpu",
   "dataSources": [
    {
     "datasetId": 4981767,
     "sourceId": 8377950,
     "sourceType": "datasetVersion"
    },
    {
     "datasetId": 4981770,
     "sourceId": 8377953,
     "sourceType": "datasetVersion"
    },
    {
     "datasetId": 4981773,
     "sourceId": 8377958,
     "sourceType": "datasetVersion"
    }
   ],
   "isGpuEnabled": true,
   "isInternetEnabled": true,
   "language": "python",
   "sourceType": "notebook"
  },
  "kernelspec": {
   "display_name": "Python 3",
   "language": "python",
   "name": "python3"
  },
  "language_info": {
   "codemirror_mode": {
    "name": "ipython",
    "version": 3
   },
   "file_extension": ".py",
   "mimetype": "text/x-python",
   "name": "python",
   "nbconvert_exporter": "python",
   "pygments_lexer": "ipython3",
   "version": "3.10.13"
  },
  "papermill": {
   "default_parameters": {},
   "duration": 17218.911898,
   "end_time": "2024-05-11T12:07:41.897946",
   "environment_variables": {},
   "exception": null,
   "input_path": "__notebook__.ipynb",
   "output_path": "__notebook__.ipynb",
   "parameters": {},
   "start_time": "2024-05-11T07:20:42.986048",
   "version": "2.5.0"
  },
  "widgets": {
   "application/vnd.jupyter.widget-state+json": {
    "state": {
     "10cc4a8eeeb34a088c1826eecccf9c24": {
      "model_module": "@jupyter-widgets/base",
      "model_module_version": "1.2.0",
      "model_name": "LayoutModel",
      "state": {
       "_model_module": "@jupyter-widgets/base",
       "_model_module_version": "1.2.0",
       "_model_name": "LayoutModel",
       "_view_count": null,
       "_view_module": "@jupyter-widgets/base",
       "_view_module_version": "1.2.0",
       "_view_name": "LayoutView",
       "align_content": null,
       "align_items": null,
       "align_self": null,
       "border": null,
       "bottom": null,
       "display": null,
       "flex": null,
       "flex_flow": null,
       "grid_area": null,
       "grid_auto_columns": null,
       "grid_auto_flow": null,
       "grid_auto_rows": null,
       "grid_column": null,
       "grid_gap": null,
       "grid_row": null,
       "grid_template_areas": null,
       "grid_template_columns": null,
       "grid_template_rows": null,
       "height": null,
       "justify_content": null,
       "justify_items": null,
       "left": null,
       "margin": null,
       "max_height": null,
       "max_width": null,
       "min_height": null,
       "min_width": null,
       "object_fit": null,
       "object_position": null,
       "order": null,
       "overflow": null,
       "overflow_x": null,
       "overflow_y": null,
       "padding": null,
       "right": null,
       "top": null,
       "visibility": null,
       "width": null
      }
     },
     "21f089ebb45642dc83cdc97757457ab2": {
      "model_module": "@jupyter-widgets/controls",
      "model_module_version": "1.5.0",
      "model_name": "ProgressStyleModel",
      "state": {
       "_model_module": "@jupyter-widgets/controls",
       "_model_module_version": "1.5.0",
       "_model_name": "ProgressStyleModel",
       "_view_count": null,
       "_view_module": "@jupyter-widgets/base",
       "_view_module_version": "1.2.0",
       "_view_name": "StyleView",
       "bar_color": null,
       "description_width": ""
      }
     },
     "226b85469e3f47a293c9fab4f513a6b4": {
      "model_module": "@jupyter-widgets/base",
      "model_module_version": "1.2.0",
      "model_name": "LayoutModel",
      "state": {
       "_model_module": "@jupyter-widgets/base",
       "_model_module_version": "1.2.0",
       "_model_name": "LayoutModel",
       "_view_count": null,
       "_view_module": "@jupyter-widgets/base",
       "_view_module_version": "1.2.0",
       "_view_name": "LayoutView",
       "align_content": null,
       "align_items": null,
       "align_self": null,
       "border": null,
       "bottom": null,
       "display": null,
       "flex": null,
       "flex_flow": null,
       "grid_area": null,
       "grid_auto_columns": null,
       "grid_auto_flow": null,
       "grid_auto_rows": null,
       "grid_column": null,
       "grid_gap": null,
       "grid_row": null,
       "grid_template_areas": null,
       "grid_template_columns": null,
       "grid_template_rows": null,
       "height": null,
       "justify_content": null,
       "justify_items": null,
       "left": null,
       "margin": null,
       "max_height": null,
       "max_width": null,
       "min_height": null,
       "min_width": null,
       "object_fit": null,
       "object_position": null,
       "order": null,
       "overflow": null,
       "overflow_x": null,
       "overflow_y": null,
       "padding": null,
       "right": null,
       "top": null,
       "visibility": null,
       "width": null
      }
     },
     "2502da8492984962a94f5435b29fd5f6": {
      "model_module": "@jupyter-widgets/base",
      "model_module_version": "1.2.0",
      "model_name": "LayoutModel",
      "state": {
       "_model_module": "@jupyter-widgets/base",
       "_model_module_version": "1.2.0",
       "_model_name": "LayoutModel",
       "_view_count": null,
       "_view_module": "@jupyter-widgets/base",
       "_view_module_version": "1.2.0",
       "_view_name": "LayoutView",
       "align_content": null,
       "align_items": null,
       "align_self": null,
       "border": null,
       "bottom": null,
       "display": null,
       "flex": null,
       "flex_flow": null,
       "grid_area": null,
       "grid_auto_columns": null,
       "grid_auto_flow": null,
       "grid_auto_rows": null,
       "grid_column": null,
       "grid_gap": null,
       "grid_row": null,
       "grid_template_areas": null,
       "grid_template_columns": null,
       "grid_template_rows": null,
       "height": null,
       "justify_content": null,
       "justify_items": null,
       "left": null,
       "margin": null,
       "max_height": null,
       "max_width": null,
       "min_height": null,
       "min_width": null,
       "object_fit": null,
       "object_position": null,
       "order": null,
       "overflow": null,
       "overflow_x": null,
       "overflow_y": null,
       "padding": null,
       "right": null,
       "top": null,
       "visibility": null,
       "width": null
      }
     },
     "28c2fae7158849b1ab2d0498fbc4f0b7": {
      "model_module": "@jupyter-widgets/controls",
      "model_module_version": "1.5.0",
      "model_name": "HTMLModel",
      "state": {
       "_dom_classes": [],
       "_model_module": "@jupyter-widgets/controls",
       "_model_module_version": "1.5.0",
       "_model_name": "HTMLModel",
       "_view_count": null,
       "_view_module": "@jupyter-widgets/controls",
       "_view_module_version": "1.5.0",
       "_view_name": "HTMLView",
       "description": "",
       "description_tooltip": null,
       "layout": "IPY_MODEL_bd36f4bd77e74855bdd7b37664060522",
       "placeholder": "​",
       "style": "IPY_MODEL_9fb8a95b9480432281357b564b72b88c",
       "value": " 436M/436M [00:01&lt;00:00, 312MB/s]"
      }
     },
     "2b43a98387e0426d88455554cdb3635f": {
      "model_module": "@jupyter-widgets/base",
      "model_module_version": "1.2.0",
      "model_name": "LayoutModel",
      "state": {
       "_model_module": "@jupyter-widgets/base",
       "_model_module_version": "1.2.0",
       "_model_name": "LayoutModel",
       "_view_count": null,
       "_view_module": "@jupyter-widgets/base",
       "_view_module_version": "1.2.0",
       "_view_name": "LayoutView",
       "align_content": null,
       "align_items": null,
       "align_self": null,
       "border": null,
       "bottom": null,
       "display": null,
       "flex": null,
       "flex_flow": null,
       "grid_area": null,
       "grid_auto_columns": null,
       "grid_auto_flow": null,
       "grid_auto_rows": null,
       "grid_column": null,
       "grid_gap": null,
       "grid_row": null,
       "grid_template_areas": null,
       "grid_template_columns": null,
       "grid_template_rows": null,
       "height": null,
       "justify_content": null,
       "justify_items": null,
       "left": null,
       "margin": null,
       "max_height": null,
       "max_width": null,
       "min_height": null,
       "min_width": null,
       "object_fit": null,
       "object_position": null,
       "order": null,
       "overflow": null,
       "overflow_x": null,
       "overflow_y": null,
       "padding": null,
       "right": null,
       "top": null,
       "visibility": null,
       "width": null
      }
     },
     "2df72b5a08824a31a39fa0c5f1f142ce": {
      "model_module": "@jupyter-widgets/controls",
      "model_module_version": "1.5.0",
      "model_name": "HBoxModel",
      "state": {
       "_dom_classes": [],
       "_model_module": "@jupyter-widgets/controls",
       "_model_module_version": "1.5.0",
       "_model_name": "HBoxModel",
       "_view_count": null,
       "_view_module": "@jupyter-widgets/controls",
       "_view_module_version": "1.5.0",
       "_view_name": "HBoxView",
       "box_style": "",
       "children": [
        "IPY_MODEL_bd0c93adb0b24130b620f1b6e4360222",
        "IPY_MODEL_ea13c4aa32b54994bb7d7d6b78a1c870",
        "IPY_MODEL_d34e979bbca0452089096a658e9d927a"
       ],
       "layout": "IPY_MODEL_10cc4a8eeeb34a088c1826eecccf9c24"
      }
     },
     "2fd9378047c346888e3bea1725962f8a": {
      "model_module": "@jupyter-widgets/base",
      "model_module_version": "1.2.0",
      "model_name": "LayoutModel",
      "state": {
       "_model_module": "@jupyter-widgets/base",
       "_model_module_version": "1.2.0",
       "_model_name": "LayoutModel",
       "_view_count": null,
       "_view_module": "@jupyter-widgets/base",
       "_view_module_version": "1.2.0",
       "_view_name": "LayoutView",
       "align_content": null,
       "align_items": null,
       "align_self": null,
       "border": null,
       "bottom": null,
       "display": null,
       "flex": null,
       "flex_flow": null,
       "grid_area": null,
       "grid_auto_columns": null,
       "grid_auto_flow": null,
       "grid_auto_rows": null,
       "grid_column": null,
       "grid_gap": null,
       "grid_row": null,
       "grid_template_areas": null,
       "grid_template_columns": null,
       "grid_template_rows": null,
       "height": null,
       "justify_content": null,
       "justify_items": null,
       "left": null,
       "margin": null,
       "max_height": null,
       "max_width": null,
       "min_height": null,
       "min_width": null,
       "object_fit": null,
       "object_position": null,
       "order": null,
       "overflow": null,
       "overflow_x": null,
       "overflow_y": null,
       "padding": null,
       "right": null,
       "top": null,
       "visibility": null,
       "width": null
      }
     },
     "33cf5680e21f4cbc9bb005a6dd2856df": {
      "model_module": "@jupyter-widgets/controls",
      "model_module_version": "1.5.0",
      "model_name": "HTMLModel",
      "state": {
       "_dom_classes": [],
       "_model_module": "@jupyter-widgets/controls",
       "_model_module_version": "1.5.0",
       "_model_name": "HTMLModel",
       "_view_count": null,
       "_view_module": "@jupyter-widgets/controls",
       "_view_module_version": "1.5.0",
       "_view_name": "HTMLView",
       "description": "",
       "description_tooltip": null,
       "layout": "IPY_MODEL_2502da8492984962a94f5435b29fd5f6",
       "placeholder": "​",
       "style": "IPY_MODEL_60a6083396dd478a943e07b0f305738b",
       "value": "config.json: 100%"
      }
     },
     "3971a7909e124bc88e31c4519d84a76c": {
      "model_module": "@jupyter-widgets/controls",
      "model_module_version": "1.5.0",
      "model_name": "DescriptionStyleModel",
      "state": {
       "_model_module": "@jupyter-widgets/controls",
       "_model_module_version": "1.5.0",
       "_model_name": "DescriptionStyleModel",
       "_view_count": null,
       "_view_module": "@jupyter-widgets/base",
       "_view_module_version": "1.2.0",
       "_view_name": "StyleView",
       "description_width": ""
      }
     },
     "3f38bb3e072c49ec822d5fa1ff67f1c3": {
      "model_module": "@jupyter-widgets/controls",
      "model_module_version": "1.5.0",
      "model_name": "ProgressStyleModel",
      "state": {
       "_model_module": "@jupyter-widgets/controls",
       "_model_module_version": "1.5.0",
       "_model_name": "ProgressStyleModel",
       "_view_count": null,
       "_view_module": "@jupyter-widgets/base",
       "_view_module_version": "1.2.0",
       "_view_name": "StyleView",
       "bar_color": null,
       "description_width": ""
      }
     },
     "503c603e4b154e24b25d786381d6d534": {
      "model_module": "@jupyter-widgets/controls",
      "model_module_version": "1.5.0",
      "model_name": "DescriptionStyleModel",
      "state": {
       "_model_module": "@jupyter-widgets/controls",
       "_model_module_version": "1.5.0",
       "_model_name": "DescriptionStyleModel",
       "_view_count": null,
       "_view_module": "@jupyter-widgets/base",
       "_view_module_version": "1.2.0",
       "_view_name": "StyleView",
       "description_width": ""
      }
     },
     "554ec952602b439aa74fb6827bc901fb": {
      "model_module": "@jupyter-widgets/controls",
      "model_module_version": "1.5.0",
      "model_name": "FloatProgressModel",
      "state": {
       "_dom_classes": [],
       "_model_module": "@jupyter-widgets/controls",
       "_model_module_version": "1.5.0",
       "_model_name": "FloatProgressModel",
       "_view_count": null,
       "_view_module": "@jupyter-widgets/controls",
       "_view_module_version": "1.5.0",
       "_view_name": "ProgressView",
       "bar_style": "success",
       "description": "",
       "description_tooltip": null,
       "layout": "IPY_MODEL_e6c6258dcc40497096dcfa69b566bd4c",
       "max": 1110.0,
       "min": 0.0,
       "orientation": "horizontal",
       "style": "IPY_MODEL_3f38bb3e072c49ec822d5fa1ff67f1c3",
       "value": 1110.0
      }
     },
     "590fcb6dfe4c4d99a86e6906a45d661e": {
      "model_module": "@jupyter-widgets/controls",
      "model_module_version": "1.5.0",
      "model_name": "DescriptionStyleModel",
      "state": {
       "_model_module": "@jupyter-widgets/controls",
       "_model_module_version": "1.5.0",
       "_model_name": "DescriptionStyleModel",
       "_view_count": null,
       "_view_module": "@jupyter-widgets/base",
       "_view_module_version": "1.2.0",
       "_view_name": "StyleView",
       "description_width": ""
      }
     },
     "59cc872f970942cab5bea7ae7ec17410": {
      "model_module": "@jupyter-widgets/base",
      "model_module_version": "1.2.0",
      "model_name": "LayoutModel",
      "state": {
       "_model_module": "@jupyter-widgets/base",
       "_model_module_version": "1.2.0",
       "_model_name": "LayoutModel",
       "_view_count": null,
       "_view_module": "@jupyter-widgets/base",
       "_view_module_version": "1.2.0",
       "_view_name": "LayoutView",
       "align_content": null,
       "align_items": null,
       "align_self": null,
       "border": null,
       "bottom": null,
       "display": null,
       "flex": null,
       "flex_flow": null,
       "grid_area": null,
       "grid_auto_columns": null,
       "grid_auto_flow": null,
       "grid_auto_rows": null,
       "grid_column": null,
       "grid_gap": null,
       "grid_row": null,
       "grid_template_areas": null,
       "grid_template_columns": null,
       "grid_template_rows": null,
       "height": null,
       "justify_content": null,
       "justify_items": null,
       "left": null,
       "margin": null,
       "max_height": null,
       "max_width": null,
       "min_height": null,
       "min_width": null,
       "object_fit": null,
       "object_position": null,
       "order": null,
       "overflow": null,
       "overflow_x": null,
       "overflow_y": null,
       "padding": null,
       "right": null,
       "top": null,
       "visibility": null,
       "width": null
      }
     },
     "60a6083396dd478a943e07b0f305738b": {
      "model_module": "@jupyter-widgets/controls",
      "model_module_version": "1.5.0",
      "model_name": "DescriptionStyleModel",
      "state": {
       "_model_module": "@jupyter-widgets/controls",
       "_model_module_version": "1.5.0",
       "_model_name": "DescriptionStyleModel",
       "_view_count": null,
       "_view_module": "@jupyter-widgets/base",
       "_view_module_version": "1.2.0",
       "_view_name": "StyleView",
       "description_width": ""
      }
     },
     "7c65908602594369816f2cd244ec170f": {
      "model_module": "@jupyter-widgets/controls",
      "model_module_version": "1.5.0",
      "model_name": "HTMLModel",
      "state": {
       "_dom_classes": [],
       "_model_module": "@jupyter-widgets/controls",
       "_model_module_version": "1.5.0",
       "_model_name": "HTMLModel",
       "_view_count": null,
       "_view_module": "@jupyter-widgets/controls",
       "_view_module_version": "1.5.0",
       "_view_name": "HTMLView",
       "description": "",
       "description_tooltip": null,
       "layout": "IPY_MODEL_abbee074f64141e8be80a451e6da8ffd",
       "placeholder": "​",
       "style": "IPY_MODEL_503c603e4b154e24b25d786381d6d534",
       "value": " 1.11k/1.11k [00:00&lt;00:00, 91.1kB/s]"
      }
     },
     "83c08e5122d34c529a0d56ea2948b764": {
      "model_module": "@jupyter-widgets/controls",
      "model_module_version": "1.5.0",
      "model_name": "HBoxModel",
      "state": {
       "_dom_classes": [],
       "_model_module": "@jupyter-widgets/controls",
       "_model_module_version": "1.5.0",
       "_model_name": "HBoxModel",
       "_view_count": null,
       "_view_module": "@jupyter-widgets/controls",
       "_view_module_version": "1.5.0",
       "_view_name": "HBoxView",
       "box_style": "",
       "children": [
        "IPY_MODEL_33cf5680e21f4cbc9bb005a6dd2856df",
        "IPY_MODEL_554ec952602b439aa74fb6827bc901fb",
        "IPY_MODEL_7c65908602594369816f2cd244ec170f"
       ],
       "layout": "IPY_MODEL_2b43a98387e0426d88455554cdb3635f"
      }
     },
     "9fb8a95b9480432281357b564b72b88c": {
      "model_module": "@jupyter-widgets/controls",
      "model_module_version": "1.5.0",
      "model_name": "DescriptionStyleModel",
      "state": {
       "_model_module": "@jupyter-widgets/controls",
       "_model_module_version": "1.5.0",
       "_model_name": "DescriptionStyleModel",
       "_view_count": null,
       "_view_module": "@jupyter-widgets/base",
       "_view_module_version": "1.2.0",
       "_view_name": "StyleView",
       "description_width": ""
      }
     },
     "a744704372994ba8a0e1dbc93339511a": {
      "model_module": "@jupyter-widgets/controls",
      "model_module_version": "1.5.0",
      "model_name": "HTMLModel",
      "state": {
       "_dom_classes": [],
       "_model_module": "@jupyter-widgets/controls",
       "_model_module_version": "1.5.0",
       "_model_name": "HTMLModel",
       "_view_count": null,
       "_view_module": "@jupyter-widgets/controls",
       "_view_module_version": "1.5.0",
       "_view_name": "HTMLView",
       "description": "",
       "description_tooltip": null,
       "layout": "IPY_MODEL_de4dba6243ae4d45b824577f7a501a54",
       "placeholder": "​",
       "style": "IPY_MODEL_3971a7909e124bc88e31c4519d84a76c",
       "value": "pytorch_model.bin: 100%"
      }
     },
     "abbee074f64141e8be80a451e6da8ffd": {
      "model_module": "@jupyter-widgets/base",
      "model_module_version": "1.2.0",
      "model_name": "LayoutModel",
      "state": {
       "_model_module": "@jupyter-widgets/base",
       "_model_module_version": "1.2.0",
       "_model_name": "LayoutModel",
       "_view_count": null,
       "_view_module": "@jupyter-widgets/base",
       "_view_module_version": "1.2.0",
       "_view_name": "LayoutView",
       "align_content": null,
       "align_items": null,
       "align_self": null,
       "border": null,
       "bottom": null,
       "display": null,
       "flex": null,
       "flex_flow": null,
       "grid_area": null,
       "grid_auto_columns": null,
       "grid_auto_flow": null,
       "grid_auto_rows": null,
       "grid_column": null,
       "grid_gap": null,
       "grid_row": null,
       "grid_template_areas": null,
       "grid_template_columns": null,
       "grid_template_rows": null,
       "height": null,
       "justify_content": null,
       "justify_items": null,
       "left": null,
       "margin": null,
       "max_height": null,
       "max_width": null,
       "min_height": null,
       "min_width": null,
       "object_fit": null,
       "object_position": null,
       "order": null,
       "overflow": null,
       "overflow_x": null,
       "overflow_y": null,
       "padding": null,
       "right": null,
       "top": null,
       "visibility": null,
       "width": null
      }
     },
     "bd0c93adb0b24130b620f1b6e4360222": {
      "model_module": "@jupyter-widgets/controls",
      "model_module_version": "1.5.0",
      "model_name": "HTMLModel",
      "state": {
       "_dom_classes": [],
       "_model_module": "@jupyter-widgets/controls",
       "_model_module_version": "1.5.0",
       "_model_name": "HTMLModel",
       "_view_count": null,
       "_view_module": "@jupyter-widgets/controls",
       "_view_module_version": "1.5.0",
       "_view_name": "HTMLView",
       "description": "",
       "description_tooltip": null,
       "layout": "IPY_MODEL_226b85469e3f47a293c9fab4f513a6b4",
       "placeholder": "​",
       "style": "IPY_MODEL_c9cb0d17cc1e44cfa2fc42cdcd035128",
       "value": "vocab.txt: 100%"
      }
     },
     "bd36f4bd77e74855bdd7b37664060522": {
      "model_module": "@jupyter-widgets/base",
      "model_module_version": "1.2.0",
      "model_name": "LayoutModel",
      "state": {
       "_model_module": "@jupyter-widgets/base",
       "_model_module_version": "1.2.0",
       "_model_name": "LayoutModel",
       "_view_count": null,
       "_view_module": "@jupyter-widgets/base",
       "_view_module_version": "1.2.0",
       "_view_name": "LayoutView",
       "align_content": null,
       "align_items": null,
       "align_self": null,
       "border": null,
       "bottom": null,
       "display": null,
       "flex": null,
       "flex_flow": null,
       "grid_area": null,
       "grid_auto_columns": null,
       "grid_auto_flow": null,
       "grid_auto_rows": null,
       "grid_column": null,
       "grid_gap": null,
       "grid_row": null,
       "grid_template_areas": null,
       "grid_template_columns": null,
       "grid_template_rows": null,
       "height": null,
       "justify_content": null,
       "justify_items": null,
       "left": null,
       "margin": null,
       "max_height": null,
       "max_width": null,
       "min_height": null,
       "min_width": null,
       "object_fit": null,
       "object_position": null,
       "order": null,
       "overflow": null,
       "overflow_x": null,
       "overflow_y": null,
       "padding": null,
       "right": null,
       "top": null,
       "visibility": null,
       "width": null
      }
     },
     "c9cb0d17cc1e44cfa2fc42cdcd035128": {
      "model_module": "@jupyter-widgets/controls",
      "model_module_version": "1.5.0",
      "model_name": "DescriptionStyleModel",
      "state": {
       "_model_module": "@jupyter-widgets/controls",
       "_model_module_version": "1.5.0",
       "_model_name": "DescriptionStyleModel",
       "_view_count": null,
       "_view_module": "@jupyter-widgets/base",
       "_view_module_version": "1.2.0",
       "_view_name": "StyleView",
       "description_width": ""
      }
     },
     "d34e979bbca0452089096a658e9d927a": {
      "model_module": "@jupyter-widgets/controls",
      "model_module_version": "1.5.0",
      "model_name": "HTMLModel",
      "state": {
       "_dom_classes": [],
       "_model_module": "@jupyter-widgets/controls",
       "_model_module_version": "1.5.0",
       "_model_name": "HTMLModel",
       "_view_count": null,
       "_view_module": "@jupyter-widgets/controls",
       "_view_module_version": "1.5.0",
       "_view_name": "HTMLView",
       "description": "",
       "description_tooltip": null,
       "layout": "IPY_MODEL_2fd9378047c346888e3bea1725962f8a",
       "placeholder": "​",
       "style": "IPY_MODEL_590fcb6dfe4c4d99a86e6906a45d661e",
       "value": " 213k/213k [00:00&lt;00:00, 10.2MB/s]"
      }
     },
     "d8f4c01cd179424d85bf03c792f76f60": {
      "model_module": "@jupyter-widgets/base",
      "model_module_version": "1.2.0",
      "model_name": "LayoutModel",
      "state": {
       "_model_module": "@jupyter-widgets/base",
       "_model_module_version": "1.2.0",
       "_model_name": "LayoutModel",
       "_view_count": null,
       "_view_module": "@jupyter-widgets/base",
       "_view_module_version": "1.2.0",
       "_view_name": "LayoutView",
       "align_content": null,
       "align_items": null,
       "align_self": null,
       "border": null,
       "bottom": null,
       "display": null,
       "flex": null,
       "flex_flow": null,
       "grid_area": null,
       "grid_auto_columns": null,
       "grid_auto_flow": null,
       "grid_auto_rows": null,
       "grid_column": null,
       "grid_gap": null,
       "grid_row": null,
       "grid_template_areas": null,
       "grid_template_columns": null,
       "grid_template_rows": null,
       "height": null,
       "justify_content": null,
       "justify_items": null,
       "left": null,
       "margin": null,
       "max_height": null,
       "max_width": null,
       "min_height": null,
       "min_width": null,
       "object_fit": null,
       "object_position": null,
       "order": null,
       "overflow": null,
       "overflow_x": null,
       "overflow_y": null,
       "padding": null,
       "right": null,
       "top": null,
       "visibility": null,
       "width": null
      }
     },
     "de4dba6243ae4d45b824577f7a501a54": {
      "model_module": "@jupyter-widgets/base",
      "model_module_version": "1.2.0",
      "model_name": "LayoutModel",
      "state": {
       "_model_module": "@jupyter-widgets/base",
       "_model_module_version": "1.2.0",
       "_model_name": "LayoutModel",
       "_view_count": null,
       "_view_module": "@jupyter-widgets/base",
       "_view_module_version": "1.2.0",
       "_view_name": "LayoutView",
       "align_content": null,
       "align_items": null,
       "align_self": null,
       "border": null,
       "bottom": null,
       "display": null,
       "flex": null,
       "flex_flow": null,
       "grid_area": null,
       "grid_auto_columns": null,
       "grid_auto_flow": null,
       "grid_auto_rows": null,
       "grid_column": null,
       "grid_gap": null,
       "grid_row": null,
       "grid_template_areas": null,
       "grid_template_columns": null,
       "grid_template_rows": null,
       "height": null,
       "justify_content": null,
       "justify_items": null,
       "left": null,
       "margin": null,
       "max_height": null,
       "max_width": null,
       "min_height": null,
       "min_width": null,
       "object_fit": null,
       "object_position": null,
       "order": null,
       "overflow": null,
       "overflow_x": null,
       "overflow_y": null,
       "padding": null,
       "right": null,
       "top": null,
       "visibility": null,
       "width": null
      }
     },
     "df4953e63e9347268d9fd148f7f5f227": {
      "model_module": "@jupyter-widgets/controls",
      "model_module_version": "1.5.0",
      "model_name": "HBoxModel",
      "state": {
       "_dom_classes": [],
       "_model_module": "@jupyter-widgets/controls",
       "_model_module_version": "1.5.0",
       "_model_name": "HBoxModel",
       "_view_count": null,
       "_view_module": "@jupyter-widgets/controls",
       "_view_module_version": "1.5.0",
       "_view_name": "HBoxView",
       "box_style": "",
       "children": [
        "IPY_MODEL_a744704372994ba8a0e1dbc93339511a",
        "IPY_MODEL_e752151985ed4948a517b6cb3366f17f",
        "IPY_MODEL_28c2fae7158849b1ab2d0498fbc4f0b7"
       ],
       "layout": "IPY_MODEL_d8f4c01cd179424d85bf03c792f76f60"
      }
     },
     "e6c6258dcc40497096dcfa69b566bd4c": {
      "model_module": "@jupyter-widgets/base",
      "model_module_version": "1.2.0",
      "model_name": "LayoutModel",
      "state": {
       "_model_module": "@jupyter-widgets/base",
       "_model_module_version": "1.2.0",
       "_model_name": "LayoutModel",
       "_view_count": null,
       "_view_module": "@jupyter-widgets/base",
       "_view_module_version": "1.2.0",
       "_view_name": "LayoutView",
       "align_content": null,
       "align_items": null,
       "align_self": null,
       "border": null,
       "bottom": null,
       "display": null,
       "flex": null,
       "flex_flow": null,
       "grid_area": null,
       "grid_auto_columns": null,
       "grid_auto_flow": null,
       "grid_auto_rows": null,
       "grid_column": null,
       "grid_gap": null,
       "grid_row": null,
       "grid_template_areas": null,
       "grid_template_columns": null,
       "grid_template_rows": null,
       "height": null,
       "justify_content": null,
       "justify_items": null,
       "left": null,
       "margin": null,
       "max_height": null,
       "max_width": null,
       "min_height": null,
       "min_width": null,
       "object_fit": null,
       "object_position": null,
       "order": null,
       "overflow": null,
       "overflow_x": null,
       "overflow_y": null,
       "padding": null,
       "right": null,
       "top": null,
       "visibility": null,
       "width": null
      }
     },
     "e752151985ed4948a517b6cb3366f17f": {
      "model_module": "@jupyter-widgets/controls",
      "model_module_version": "1.5.0",
      "model_name": "FloatProgressModel",
      "state": {
       "_dom_classes": [],
       "_model_module": "@jupyter-widgets/controls",
       "_model_module_version": "1.5.0",
       "_model_name": "FloatProgressModel",
       "_view_count": null,
       "_view_module": "@jupyter-widgets/controls",
       "_view_module_version": "1.5.0",
       "_view_name": "ProgressView",
       "bar_style": "success",
       "description": "",
       "description_tooltip": null,
       "layout": "IPY_MODEL_ef9e8784ca254b0ea180f1bb81c45383",
       "max": 435783451.0,
       "min": 0.0,
       "orientation": "horizontal",
       "style": "IPY_MODEL_f0a0d8b47cda462d8e429e0b6eb29556",
       "value": 435783451.0
      }
     },
     "ea13c4aa32b54994bb7d7d6b78a1c870": {
      "model_module": "@jupyter-widgets/controls",
      "model_module_version": "1.5.0",
      "model_name": "FloatProgressModel",
      "state": {
       "_dom_classes": [],
       "_model_module": "@jupyter-widgets/controls",
       "_model_module_version": "1.5.0",
       "_model_name": "FloatProgressModel",
       "_view_count": null,
       "_view_module": "@jupyter-widgets/controls",
       "_view_module_version": "1.5.0",
       "_view_name": "ProgressView",
       "bar_style": "success",
       "description": "",
       "description_tooltip": null,
       "layout": "IPY_MODEL_59cc872f970942cab5bea7ae7ec17410",
       "max": 213450.0,
       "min": 0.0,
       "orientation": "horizontal",
       "style": "IPY_MODEL_21f089ebb45642dc83cdc97757457ab2",
       "value": 213450.0
      }
     },
     "ef9e8784ca254b0ea180f1bb81c45383": {
      "model_module": "@jupyter-widgets/base",
      "model_module_version": "1.2.0",
      "model_name": "LayoutModel",
      "state": {
       "_model_module": "@jupyter-widgets/base",
       "_model_module_version": "1.2.0",
       "_model_name": "LayoutModel",
       "_view_count": null,
       "_view_module": "@jupyter-widgets/base",
       "_view_module_version": "1.2.0",
       "_view_name": "LayoutView",
       "align_content": null,
       "align_items": null,
       "align_self": null,
       "border": null,
       "bottom": null,
       "display": null,
       "flex": null,
       "flex_flow": null,
       "grid_area": null,
       "grid_auto_columns": null,
       "grid_auto_flow": null,
       "grid_auto_rows": null,
       "grid_column": null,
       "grid_gap": null,
       "grid_row": null,
       "grid_template_areas": null,
       "grid_template_columns": null,
       "grid_template_rows": null,
       "height": null,
       "justify_content": null,
       "justify_items": null,
       "left": null,
       "margin": null,
       "max_height": null,
       "max_width": null,
       "min_height": null,
       "min_width": null,
       "object_fit": null,
       "object_position": null,
       "order": null,
       "overflow": null,
       "overflow_x": null,
       "overflow_y": null,
       "padding": null,
       "right": null,
       "top": null,
       "visibility": null,
       "width": null
      }
     },
     "f0a0d8b47cda462d8e429e0b6eb29556": {
      "model_module": "@jupyter-widgets/controls",
      "model_module_version": "1.5.0",
      "model_name": "ProgressStyleModel",
      "state": {
       "_model_module": "@jupyter-widgets/controls",
       "_model_module_version": "1.5.0",
       "_model_name": "ProgressStyleModel",
       "_view_count": null,
       "_view_module": "@jupyter-widgets/base",
       "_view_module_version": "1.2.0",
       "_view_name": "StyleView",
       "bar_color": null,
       "description_width": ""
      }
     }
    },
    "version_major": 2,
    "version_minor": 0
   }
  }
 },
 "nbformat": 4,
 "nbformat_minor": 5
}
